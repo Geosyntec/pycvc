{
 "cells": [
  {
   "cell_type": "markdown",
   "metadata": {},
   "source": [
    "## Basic imports"
   ]
  },
  {
   "cell_type": "code",
   "execution_count": 1,
   "metadata": {
    "collapsed": true
   },
   "outputs": [],
   "source": [
    "import numpy as np\n",
    "import pandas\n",
    "\n",
    "import wqio\n",
    "import pynsqd\n",
    "import pycvc"
   ]
  },
  {
   "cell_type": "markdown",
   "metadata": {},
   "source": [
    "## Load and export from the `pycvc` external module"
   ]
  },
  {
   "cell_type": "code",
   "execution_count": 2,
   "metadata": {
    "collapsed": false
   },
   "outputs": [
    {
     "name": "stderr",
     "output_type": "stream",
     "text": [
      "c:\\users\\phobson\\sources\\werf\\wqio\\wqio\\algo\\bootstrap.py:199: UserWarning: secondary result outside of CI\n",
      "  warnings.warn(\"secondary result outside of CI\", UserWarning)\n"
     ]
    }
   ],
   "source": [
    "nsqdata = pycvc.external.nsqd('red', 'd')\n",
    "nsqdata.data.to_csv(\"nsqdata_in_pycvc.csv\", index=False)\n",
    "nsqdata.medians.to_csv('ED1_influent_medians.csv', index=False)\n",
    "nsqdata.datacollection.tidy.to_csv(\"nsqtidy.csv\", index=False)"
   ]
  },
  {
   "cell_type": "markdown",
   "metadata": {},
   "source": [
    "### Read in and ROS the hand-filtered data"
   ]
  },
  {
   "cell_type": "code",
   "execution_count": 3,
   "metadata": {
    "collapsed": false
   },
   "outputs": [
    {
     "data": {
      "text/html": [
       "<div>\n",
       "<table border=\"1\" class=\"dataframe\">\n",
       "  <thead>\n",
       "    <tr style=\"text-align: right;\">\n",
       "      <th></th>\n",
       "      <th>epa_rain_zone</th>\n",
       "      <th>primary_landuse</th>\n",
       "      <th>season</th>\n",
       "      <th>parameter</th>\n",
       "      <th>fraction</th>\n",
       "      <th>units</th>\n",
       "      <th>res</th>\n",
       "      <th>qual</th>\n",
       "      <th>cen</th>\n",
       "    </tr>\n",
       "  </thead>\n",
       "  <tbody>\n",
       "    <tr>\n",
       "      <th>0</th>\n",
       "      <td>1</td>\n",
       "      <td>Residential</td>\n",
       "      <td>spring</td>\n",
       "      <td>Cadmium</td>\n",
       "      <td>Total</td>\n",
       "      <td>ug/L</td>\n",
       "      <td>10</td>\n",
       "      <td>&lt;</td>\n",
       "      <td>True</td>\n",
       "    </tr>\n",
       "    <tr>\n",
       "      <th>1</th>\n",
       "      <td>1</td>\n",
       "      <td>Residential</td>\n",
       "      <td>spring</td>\n",
       "      <td>Cadmium</td>\n",
       "      <td>Total</td>\n",
       "      <td>ug/L</td>\n",
       "      <td>10</td>\n",
       "      <td>&lt;</td>\n",
       "      <td>True</td>\n",
       "    </tr>\n",
       "    <tr>\n",
       "      <th>2</th>\n",
       "      <td>1</td>\n",
       "      <td>Residential</td>\n",
       "      <td>spring</td>\n",
       "      <td>Cadmium</td>\n",
       "      <td>Total</td>\n",
       "      <td>ug/L</td>\n",
       "      <td>10</td>\n",
       "      <td>&lt;</td>\n",
       "      <td>True</td>\n",
       "    </tr>\n",
       "    <tr>\n",
       "      <th>3</th>\n",
       "      <td>1</td>\n",
       "      <td>Residential</td>\n",
       "      <td>spring</td>\n",
       "      <td>Cadmium</td>\n",
       "      <td>Total</td>\n",
       "      <td>ug/L</td>\n",
       "      <td>10</td>\n",
       "      <td>&lt;</td>\n",
       "      <td>True</td>\n",
       "    </tr>\n",
       "    <tr>\n",
       "      <th>4</th>\n",
       "      <td>1</td>\n",
       "      <td>Residential</td>\n",
       "      <td>spring</td>\n",
       "      <td>Cadmium</td>\n",
       "      <td>Total</td>\n",
       "      <td>ug/L</td>\n",
       "      <td>1</td>\n",
       "      <td>&lt;</td>\n",
       "      <td>True</td>\n",
       "    </tr>\n",
       "  </tbody>\n",
       "</table>\n",
       "</div>"
      ],
      "text/plain": [
       "   epa_rain_zone primary_landuse  season parameter fraction units  res qual  \\\n",
       "0              1     Residential  spring   Cadmium    Total  ug/L   10    <   \n",
       "1              1     Residential  spring   Cadmium    Total  ug/L   10    <   \n",
       "2              1     Residential  spring   Cadmium    Total  ug/L   10    <   \n",
       "3              1     Residential  spring   Cadmium    Total  ug/L   10    <   \n",
       "4              1     Residential  spring   Cadmium    Total  ug/L    1    <   \n",
       "\n",
       "    cen  \n",
       "0  True  \n",
       "1  True  \n",
       "2  True  \n",
       "3  True  \n",
       "4  True  "
      ]
     },
     "execution_count": 3,
     "metadata": {},
     "output_type": "execute_result"
    }
   ],
   "source": [
    "main_cols = [\n",
    "    'epa_rain_zone', 'season', 'primary_landuse',\n",
    "    'parameter', 'fraction', 'units', 'res', 'qual'\n",
    "]\n",
    "\n",
    "df = pandas.read_csv(\"nsqdata_example_subset.csv\", usecols=main_cols)\n",
    "df['cen'] = df['qual'].isin(['<'])\n",
    "df.head()"
   ]
  },
  {
   "cell_type": "markdown",
   "metadata": {},
   "source": [
    "## Show medians computed from the subset above"
   ]
  },
  {
   "cell_type": "code",
   "execution_count": 4,
   "metadata": {
    "collapsed": false
   },
   "outputs": [
    {
     "data": {
      "text/plain": [
       "0.35189348345894644"
      ]
     },
     "execution_count": 4,
     "metadata": {},
     "output_type": "execute_result"
    }
   ],
   "source": [
    "ros = wqio.robustros.RobustROSEstimator(data=df)\n",
    "np.median(ros.estimated_values)"
   ]
  },
  {
   "cell_type": "markdown",
   "metadata": {},
   "source": [
    "## Show the same result used in `pycvc`"
   ]
  },
  {
   "cell_type": "code",
   "execution_count": 5,
   "metadata": {
    "collapsed": false
   },
   "outputs": [
    {
     "data": {
      "text/html": [
       "<div>\n",
       "<table border=\"1\" class=\"dataframe\">\n",
       "  <thead>\n",
       "    <tr style=\"text-align: right;\">\n",
       "      <th></th>\n",
       "      <th>parameter</th>\n",
       "      <th>season</th>\n",
       "      <th>lower</th>\n",
       "      <th>NSQD Medians</th>\n",
       "      <th>upper</th>\n",
       "    </tr>\n",
       "  </thead>\n",
       "  <tbody>\n",
       "    <tr>\n",
       "      <th>1</th>\n",
       "      <td>Cadmium (Cd)</td>\n",
       "      <td>spring</td>\n",
       "      <td>0.172</td>\n",
       "      <td>0.352</td>\n",
       "      <td>0.525</td>\n",
       "    </tr>\n",
       "  </tbody>\n",
       "</table>\n",
       "</div>"
      ],
      "text/plain": [
       "      parameter  season  lower  NSQD Medians  upper\n",
       "1  Cadmium (Cd)  spring  0.172         0.352  0.525"
      ]
     },
     "execution_count": 5,
     "metadata": {},
     "output_type": "execute_result"
    }
   ],
   "source": [
    "nsqdata.season_medians.query(\"parameter == 'Cadmium (Cd)' and season == 'spring'\")"
   ]
  }
 ],
 "metadata": {
  "kernelspec": {
   "display_name": "Python 3",
   "language": "python",
   "name": "python3"
  },
  "language_info": {
   "codemirror_mode": {
    "name": "ipython",
    "version": 3
   },
   "file_extension": ".py",
   "mimetype": "text/x-python",
   "name": "python",
   "nbconvert_exporter": "python",
   "pygments_lexer": "ipython3",
   "version": "3.4.3"
  }
 },
 "nbformat": 4,
 "nbformat_minor": 0
}
