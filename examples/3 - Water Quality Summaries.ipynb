{
 "cells": [
  {
   "cell_type": "markdown",
   "metadata": {},
   "source": [
    "# CVC Data Summaries (with simple method hydrology)\n",
    "\n",
    "## Setup the basic working environment"
   ]
  },
  {
   "cell_type": "code",
   "execution_count": null,
   "metadata": {
    "collapsed": false
   },
   "outputs": [],
   "source": [
    "%matplotlib inline\n",
    "\n",
    "import os\n",
    "import sys\n",
    "import datetime\n",
    "import warnings\n",
    "\n",
    "import numpy as np\n",
    "import matplotlib.pyplot as plt\n",
    "import pandas\n",
    "import seaborn\n",
    "seaborn.set(style='ticks', context='paper')\n",
    "\n",
    "import wqio\n",
    "from wqio import utils\n",
    "import pybmpdb\n",
    "import pynsqd\n",
    "\n",
    "import pycvc\n",
    "\n",
    "min_precip = 1.9999\n",
    "big_storm_date = datetime.date(2013, 7, 8)\n",
    "\n",
    "pybmpdb.setMPLStyle()\n",
    "seaborn.set(style='ticks', rc={'text.usetex': False}, palette='deep')\n",
    "\n",
    "POCs = [\n",
    "    p['cvcname'] \n",
    "    for p in filter(\n",
    "        lambda p: p['include'], \n",
    "        pycvc.info.POC_dicts\n",
    "    )\n",
    "]\n",
    "\n",
    "warning_filter = \"ignore\" \n",
    "warnings.simplefilter(warning_filter)\n",
    "\n",
    "## general result groupings\n",
    "groups = [\n",
    "    {'name': 'Overall', 'col': None},\n",
    "    {'name': 'By Year', 'col': 'year'},\n",
    "    {'name': 'By Season', 'col': 'season'},\n",
    "    {'name': 'By Grouped Season', 'col': 'grouped_season'},\n",
    "    {'name': 'By Storm Size', 'col': 'storm_bin'},\n",
    "]\n",
    "\n",
    "site_lists = [\n",
    "    {\n",
    "        'sites': ['ED-1'], \n",
    "        'name': 'ElmDrive', \n",
    "        'colors': [seaborn.color_palette()[0]],\n",
    "        'markers': ['o'],\n",
    "    }, {\n",
    "        'sites': ['LV-1', 'LV-2', 'LV-4'],\n",
    "        'name': 'Lakeview',\n",
    "        'colors': seaborn.color_palette()[1:4],\n",
    "        'markers': ['s', '^', 'v'],\n",
    "    },\n",
    "]\n",
    "\n",
    "poc_lists = [\n",
    "    {\n",
    "        'params': POCs[6:],\n",
    "        'units': 'mg/L', \n",
    "        'name': 'Nutrients'\n",
    "    }, {\n",
    "        'params': POCs[:6],\n",
    "        'units': 'μg/L',\n",
    "        'name': 'Metals'\n",
    "    },\n",
    "]"
   ]
  },
  {
   "cell_type": "markdown",
   "metadata": {},
   "source": [
    "## Load water quality data\n",
    "### External sources"
   ]
  },
  {
   "cell_type": "code",
   "execution_count": null,
   "metadata": {
    "collapsed": false
   },
   "outputs": [],
   "source": [
    "bmpdb = pycvc.external.bmpdb('black', 'D')\n",
    "nsqdata = pycvc.external.nsqd('black', 'd')"
   ]
  },
  {
   "cell_type": "markdown",
   "metadata": {},
   "source": [
    "### CVC tidy data\n",
    "Data using the Simple Method hydrology is suffixed with `_simple`.\n",
    "You could also use the SWMM Model hydrology with the `_SWMM` files.\n",
    "\n",
    "Loads from the July 8, 2013 storm are removed here."
   ]
  },
  {
   "cell_type": "code",
   "execution_count": null,
   "metadata": {
    "collapsed": false
   },
   "outputs": [],
   "source": [
    "# simple method file\n",
    "tidy_file = 'output/tidy/wq_simple.csv'\n",
    "\n",
    "# # SWMM file\n",
    "# tidy_file = 'output/tidy/wq_swmm.csv'\n",
    "\n",
    "datecols = [\n",
    "    'start_date',\n",
    "    'end_date',\n",
    "    'samplestart',\n",
    "    'samplestop',\n",
    "]\n",
    "\n",
    "wq = (\n",
    "    pandas.read_csv(tidy_file, parse_dates=datecols)\n",
    "        .pipe(pycvc.summary.classify_storms, 'total_precip_depth')\n",
    "        .pipe(pycvc.summary.remove_load_data_from_storms, [big_storm_date], 'start_date')\n",
    ")"
   ]
  },
  {
   "cell_type": "markdown",
   "metadata": {},
   "source": [
    "## Water Quality Summaries\n",
    "### Prevalence Tables"
   ]
  },
  {
   "cell_type": "code",
   "execution_count": null,
   "metadata": {
    "collapsed": false
   },
   "outputs": [],
   "source": [
    "with pandas.ExcelWriter('output/xlsx/CVCWQ_DataInventory.xlsx') as xl_prev_tables:\n",
    "    raw = pycvc.summary.prevalence_table(wq, groupby_col='samplestart')\n",
    "    raw.to_excel(xl_prev_tables, sheet_name='Raw', index=False)\n",
    "    for g in groups:\n",
    "        prevalence = pycvc.summary.prevalence_table(wq, groupby_col=g['col'])\n",
    "        prevalence.to_excel(xl_prev_tables, sheet_name=g['name'], index=False)"
   ]
  },
  {
   "cell_type": "markdown",
   "metadata": {},
   "source": [
    "### Concentrations Stats"
   ]
  },
  {
   "cell_type": "code",
   "execution_count": null,
   "metadata": {
    "collapsed": false,
    "scrolled": false
   },
   "outputs": [],
   "source": [
    "summaryopts = dict(rescol='concentration', sampletype='composite')\n",
    "with pandas.ExcelWriter('output/xlsx/CVCWQ_ConcStats.xlsx') as xl_conc:\n",
    "    for g in groups:\n",
    "        wq_stats = pycvc.summary.wq_summary(wq, groupby_col=g['col'], **summaryopts)\n",
    "        wq_stats.to_excel(xl_conc, sheet_name=g['name'], index=False)"
   ]
  },
  {
   "cell_type": "markdown",
   "metadata": {},
   "source": [
    "### Load Stats"
   ]
  },
  {
   "cell_type": "code",
   "execution_count": null,
   "metadata": {
    "collapsed": false
   },
   "outputs": [],
   "source": [
    "summaryopts = dict(rescol='load_outflow', sampletype='composite')\n",
    "with pandas.ExcelWriter('output/xlsx/CVCWQ_LoadStats.xlsx') as xl_loads:\n",
    "    for g in groups:\n",
    "        load_stats = pycvc.summary.wq_summary(wq, groupby_col=g['col'], **summaryopts)\n",
    "        load_stats.to_excel(xl_loads, sheet_name=g['name'], index=False)"
   ]
  },
  {
   "cell_type": "markdown",
   "metadata": {},
   "source": [
    "### Total Loads Summary"
   ]
  },
  {
   "cell_type": "code",
   "execution_count": null,
   "metadata": {
    "collapsed": false,
    "scrolled": false
   },
   "outputs": [],
   "source": [
    "with pandas.ExcelWriter('output/xlsx/CVCWQ_LoadsTotals.xlsx') as xl_load_totals:\n",
    "    for g in groups:\n",
    "        load_totals = pycvc.summary.load_totals(wq, groupby_col=g['col'])\n",
    "        load_totals.to_excel(xl_load_totals, sheet_name=g['name'], index=False)"
   ]
  },
  {
   "cell_type": "markdown",
   "metadata": {},
   "source": [
    "### Total Load Reduction Tables and Figures"
   ]
  },
  {
   "cell_type": "code",
   "execution_count": null,
   "metadata": {
    "collapsed": false
   },
   "outputs": [],
   "source": [
    "ed_nutrients = ['Nitrate + Nitrite', 'Orthophosphate (P)', 'Total Kjeldahl Nitrogen (TKN)', 'Total Phosphorus']\n",
    "ed_metals = ['Cadmium (Cd)', 'Copper (Cu)', 'Lead (Pb)', 'Nickel (Ni)', 'Zinc (Zn)']\n",
    "lv_nutrients = ['Nitrate (N)', 'Orthophosphate (P)', 'Total Kjeldahl Nitrogen (TKN)', 'Total Phosphorus']\n",
    "lv_metals = ['Cadmium (Cd)', 'Copper (Cu)', 'Lead (Pb)', 'Nickel (Ni)', 'Iron (Fe)', 'Zinc (Zn)']\n",
    "\n",
    "figures = [\n",
    "    {\n",
    "        'sites': ['ED-1'], \n",
    "        'name': 'ElmDrive_TSS', \n",
    "        'params': ['Total Suspended Solids'], \n",
    "        'leg_loc': (0.5, 0.05)\n",
    "    }, {\n",
    "        'sites': ['LV-2', 'LV-4'],\n",
    "        'name': 'LakeViewTSS',\n",
    "        'params': ['Total Suspended Solids'],\n",
    "        'leg_loc': (0.5, 0.05)\n",
    "    }, {\n",
    "        'sites': ['ED-1'],\n",
    "        'name': 'ElmDrive_Nutrients',\n",
    "        'params': ed_nutrients,\n",
    "        'leg_loc': (0.6, 0.03)\n",
    "    }, {\n",
    "        'sites': ['LV-2', 'LV-4'],\n",
    "        'name': 'LakeView_Nutrients',\n",
    "        'params': lv_nutrients,\n",
    "        'leg_loc': (0.6, 0.03)\n",
    "    }, {\n",
    "        'sites': ['ED-1'],\n",
    "        'name': 'ElmDrive_Metals',\n",
    "        'params': ed_metals,\n",
    "        'leg_loc': (0.6, 0.03)\n",
    "    }, {\n",
    "        'sites': ['LV-2', 'LV-4'],\n",
    "        'name': 'LakeView_Metals',\n",
    "        'params': lv_metals,\n",
    "        'leg_loc': (0.57, 0.02)\n",
    "    },\n",
    "]\n",
    "\n",
    "with pandas.ExcelWriter('output/xlsx/CVCWQ_LoadReductionPct.xlsx') as xl_load_pct:\n",
    "    for g in groups:\n",
    "        reduction = (\n",
    "            wq.pipe(pycvc.summary.load_reduction_pct, groupby_col=g['col'])\n",
    "        )\n",
    "        reduction.to_excel(xl_load_pct, sheet_name=g['name'], index=False)\n",
    "        \n",
    "        if g['col'] is not None and g['col'] != 'season':\n",
    "            for f in figures:\n",
    "                _params = f['params']\n",
    "                _sites = f['sites']\n",
    "                fg = pycvc.viz.reduction_plot(\n",
    "                    reduction.query(\"site in @_sites and parameter in @_params\"), \n",
    "                    _params, \n",
    "                    'parameter', \n",
    "                    'site', \n",
    "                    g['col'], \n",
    "                    f['leg_loc'],\n",
    "                    lower='load_red_lower',\n",
    "                    reduction='load_red',\n",
    "                    upper='load_red_upper',\n",
    "\n",
    "                )\n",
    "                fg.set_axis_labels(x_var='', y_var='Load Reduction (%)')\n",
    "                for ax in fg.axes:\n",
    "                    ax.set_ylim(top=100)\n",
    "                    if g['col'] == 'storm_bin':\n",
    "                        utils.figutils.rotateTickLabels(ax, 20, 'x')\n",
    "\n",
    "                fg.savefig('output/img/LoadReduction/{}_{}.png'.format(f['name'], g['col']))"
   ]
  },
  {
   "cell_type": "markdown",
   "metadata": {},
   "source": [
    "## Faceted Plots\n",
    "### Combine NSQD, BMP DB datasets with CVC data"
   ]
  },
  {
   "cell_type": "code",
   "execution_count": null,
   "metadata": {
    "collapsed": false
   },
   "outputs": [],
   "source": [
    "bmptidy = pycvc.external.combine_wq(wq, bmpdb, 'category')\n",
    "nsqdtidy = pycvc.external.combine_wq(wq, nsqdata, 'primary_landuse')"
   ]
  },
  {
   "cell_type": "markdown",
   "metadata": {},
   "source": [
    "### Boxplots with external sources"
   ]
  },
  {
   "cell_type": "code",
   "execution_count": null,
   "metadata": {
    "collapsed": false,
    "scrolled": true
   },
   "outputs": [],
   "source": [
    "bmps = [\n",
    "    'Bioretention', 'Detention Basin',\n",
    "    'Manufactured Device', 'Retention Pond',\n",
    "    'Wetland Channel',\n",
    "]\n",
    "\n",
    "LUs = [\n",
    "    'Commercial', 'Freeway', 'Industrial', \n",
    "    'Institutional',  'Residential', 'Open Space',\n",
    "]\n",
    "\n",
    "for sl in site_lists:\n",
    "    for pocs in poc_lists:\n",
    "        box_opts = dict(\n",
    "            sites=sl['sites'], \n",
    "            params=pocs['params'],\n",
    "            units=pocs['units'], \n",
    "        )\n",
    "\n",
    "        bmppal = sl['colors'].copy() + seaborn.color_palette('BuPu', n_colors=len(bmps))\n",
    "        fg1 = pycvc.viz.external_boxplot(bmptidy, categories=bmps, palette=bmppal, **box_opts)\n",
    "        fg1name = 'Boxplot_BMPBD_{}_{}.png'.format(sl['name'], pocs['name'])\n",
    "        pycvc.viz.savefig(fg1.fig, fg1name, extra='Megafigure')\n",
    "        \n",
    "        nsqdpal = sl['colors'].copy() + seaborn.color_palette('RdPu', n_colors=len(LUs))\n",
    "        fg2 = pycvc.viz.external_boxplot(nsqdtidy, categories=LUs, palette=nsqdpal, **box_opts)\n",
    "        fg2name = 'Boxplot_NSQD_{}_{}.png'.format(sl['name'], pocs['name'])\n",
    "        pycvc.viz.savefig(fg2.fig, fg2name, extra='Megafigure')\n",
    "        "
   ]
  },
  {
   "cell_type": "markdown",
   "metadata": {},
   "source": [
    "### Time series, probability and seasonal box and whisker plots"
   ]
  },
  {
   "cell_type": "code",
   "execution_count": null,
   "metadata": {
    "collapsed": false,
    "scrolled": true
   },
   "outputs": [],
   "source": [
    "for sl in site_lists:\n",
    "    for pocs in poc_lists:\n",
    "        # common options for the plots\n",
    "        plot_opts = dict(\n",
    "            sites=sl['sites'],\n",
    "            params=pocs['params'],\n",
    "            units=pocs['units'], \n",
    "            palette=sl['colors'], \n",
    "            markers=sl['markers'],\n",
    "        )\n",
    "        \n",
    "        # plots\n",
    "        ts = pycvc.viz.ts_plot(wq, 'samplestart', 'concentration', **plot_opts)\n",
    "        pp = pycvc.viz.prob_plot(wq, 'concentration', **plot_opts)\n",
    "        bp = pycvc.viz.seasonal_boxplot(wq, 'concentration', params=pocs['params'],\n",
    "                                        units=pocs['units'])\n",
    "                                        \n",
    "        # output filenames\n",
    "        tsname = 'TimeSeries_{}_{}.png'.format(sl['name'], pocs['name'])\n",
    "        ppname = 'ProbPlot_{}_{}.png'.format(sl['name'], pocs['name'])\n",
    "        bpname = 'Boxplot_Seasonal_{}_{}.png'.format(sl['name'], pocs['name'])\n",
    "        \n",
    "        # save the figures\n",
    "        pycvc.viz.savefig(ts.fig, tsname, extra='MegaFigure')\n",
    "        pycvc.viz.savefig(pp.fig, ppname, extra='MegaFigure')\n",
    "        pycvc.viz.savefig(bp.fig, bpname, extra='MegaFigure')"
   ]
  }
 ],
 "metadata": {
  "kernelspec": {
   "display_name": "Python 3",
   "language": "python",
   "name": "python3"
  },
  "language_info": {
   "codemirror_mode": {
    "name": "ipython",
    "version": 3
   },
   "file_extension": ".py",
   "mimetype": "text/x-python",
   "name": "python",
   "nbconvert_exporter": "python",
   "pygments_lexer": "ipython3",
   "version": "3.4.4"
  }
 },
 "nbformat": 4,
 "nbformat_minor": 0
}
