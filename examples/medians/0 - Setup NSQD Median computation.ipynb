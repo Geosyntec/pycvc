{
 "cells": [
  {
   "cell_type": "markdown",
   "metadata": {},
   "source": [
    "## Load, filter, export the NSQD Dataset\n",
    "The cell below imports the libaries we need and defines some function that help up clean up the NSQD"
   ]
  },
  {
   "cell_type": "code",
   "execution_count": 1,
   "metadata": {
    "collapsed": true
   },
   "outputs": [],
   "source": [
    "import numpy \n",
    "\n",
    "import wqio\n",
    "import pynsqd\n",
    "import pycvc\n",
    "\n",
    "def get_cvc_parameter(nsqdparam):\n",
    "    try:\n",
    "        cvcparam = list(filter(\n",
    "            lambda p: p['nsqdname'] == nsqdparam, pycvc.info.POC_dicts\n",
    "        ))[0]['cvcname']\n",
    "    except IndexError:\n",
    "        cvcparam = numpy.nan\n",
    "    return cvcparam\n",
    "\n",
    "\n",
    "def fix_nsqd_bacteria_units(df, unitscol='units'):\n",
    "    df[unitscol] = df[unitscol].replace(to_replace='MPN/100 mL', value='CFU/100 mL')\n",
    "    return df\n",
    "\n",
    "\n",
    "nsqd_params = [\n",
    "    p['nsqdname'] \n",
    "    for p in pycvc.info.POC_dicts\n",
    "]"
   ]
  },
  {
   "cell_type": "markdown",
   "metadata": {},
   "source": [
    "## Create a raw data set, then compute season and apply *basic* filters\n",
    "(also export to CSV file)"
   ]
  },
  {
   "cell_type": "code",
   "execution_count": 2,
   "metadata": {
    "collapsed": false
   },
   "outputs": [],
   "source": [
    "raw_data = pynsqd.NSQData().data\n",
    "\n",
    "clean_data = (\n",
    "    raw_data\n",
    "        .query(\"primary_landuse != 'Unknown'\")\n",
    "        .query(\"parameter in @nsqd_params\")\n",
    "        .query(\"fraction == 'Total'\")\n",
    "        .query(\"epa_rain_zone == 1\")\n",
    "        .assign(station='outflow')\n",
    "        .assign(cvcparam=lambda df: df['parameter'].apply(get_cvc_parameter))\n",
    "        .assign(season=lambda df: df['start_date'].apply(wqio.utils.getSeason))\n",
    "        .drop('parameter', axis=1)\n",
    "        .rename(columns={'cvcparam': 'parameter'})\n",
    "        .pipe(fix_nsqd_bacteria_units)\n",
    "        .query(\"primary_landuse == 'Residential'\")\n",
    ")"
   ]
  },
  {
   "cell_type": "markdown",
   "metadata": {},
   "source": [
    "## Show the sample counts for each parameter"
   ]
  },
  {
   "cell_type": "code",
   "execution_count": 3,
   "metadata": {
    "collapsed": false
   },
   "outputs": [
    {
     "data": {
      "text/html": [
       "<div>\n",
       "<table border=\"1\" class=\"dataframe\">\n",
       "  <thead>\n",
       "    <tr style=\"text-align: right;\">\n",
       "      <th>season</th>\n",
       "      <th>autumn</th>\n",
       "      <th>spring</th>\n",
       "      <th>summer</th>\n",
       "      <th>winter</th>\n",
       "    </tr>\n",
       "    <tr>\n",
       "      <th>parameter</th>\n",
       "      <th></th>\n",
       "      <th></th>\n",
       "      <th></th>\n",
       "      <th></th>\n",
       "    </tr>\n",
       "  </thead>\n",
       "  <tbody>\n",
       "    <tr>\n",
       "      <th>Cadmium (Cd)</th>\n",
       "      <td>35</td>\n",
       "      <td>35</td>\n",
       "      <td>49</td>\n",
       "      <td>22</td>\n",
       "    </tr>\n",
       "    <tr>\n",
       "      <th>Copper (Cu)</th>\n",
       "      <td>61</td>\n",
       "      <td>105</td>\n",
       "      <td>106</td>\n",
       "      <td>29</td>\n",
       "    </tr>\n",
       "    <tr>\n",
       "      <th>Dissolved Chloride (Cl)</th>\n",
       "      <td>9</td>\n",
       "      <td>12</td>\n",
       "      <td>16</td>\n",
       "      <td>NaN</td>\n",
       "    </tr>\n",
       "    <tr>\n",
       "      <th>Escherichia coli</th>\n",
       "      <td>4</td>\n",
       "      <td>7</td>\n",
       "      <td>3</td>\n",
       "      <td>5</td>\n",
       "    </tr>\n",
       "    <tr>\n",
       "      <th>Lead (Pb)</th>\n",
       "      <td>58</td>\n",
       "      <td>85</td>\n",
       "      <td>81</td>\n",
       "      <td>31</td>\n",
       "    </tr>\n",
       "    <tr>\n",
       "      <th>Nickel (Ni)</th>\n",
       "      <td>11</td>\n",
       "      <td>9</td>\n",
       "      <td>10</td>\n",
       "      <td>7</td>\n",
       "    </tr>\n",
       "    <tr>\n",
       "      <th>Nitrate + Nitrite</th>\n",
       "      <td>97</td>\n",
       "      <td>123</td>\n",
       "      <td>153</td>\n",
       "      <td>29</td>\n",
       "    </tr>\n",
       "    <tr>\n",
       "      <th>Orthophosphate (P)</th>\n",
       "      <td>5</td>\n",
       "      <td>8</td>\n",
       "      <td>5</td>\n",
       "      <td>5</td>\n",
       "    </tr>\n",
       "    <tr>\n",
       "      <th>Total Kjeldahl Nitrogen (TKN)</th>\n",
       "      <td>99</td>\n",
       "      <td>124</td>\n",
       "      <td>156</td>\n",
       "      <td>37</td>\n",
       "    </tr>\n",
       "    <tr>\n",
       "      <th>Total Oil &amp; Grease</th>\n",
       "      <td>5</td>\n",
       "      <td>12</td>\n",
       "      <td>4</td>\n",
       "      <td>5</td>\n",
       "    </tr>\n",
       "    <tr>\n",
       "      <th>Total Phosphorus</th>\n",
       "      <td>115</td>\n",
       "      <td>174</td>\n",
       "      <td>203</td>\n",
       "      <td>41</td>\n",
       "    </tr>\n",
       "    <tr>\n",
       "      <th>Total Suspended Solids</th>\n",
       "      <td>104</td>\n",
       "      <td>151</td>\n",
       "      <td>185</td>\n",
       "      <td>35</td>\n",
       "    </tr>\n",
       "    <tr>\n",
       "      <th>Zinc (Zn)</th>\n",
       "      <td>64</td>\n",
       "      <td>101</td>\n",
       "      <td>125</td>\n",
       "      <td>29</td>\n",
       "    </tr>\n",
       "  </tbody>\n",
       "</table>\n",
       "</div>"
      ],
      "text/plain": [
       "season                         autumn  spring  summer  winter\n",
       "parameter                                                    \n",
       "Cadmium (Cd)                       35      35      49      22\n",
       "Copper (Cu)                        61     105     106      29\n",
       "Dissolved Chloride (Cl)             9      12      16     NaN\n",
       "Escherichia coli                    4       7       3       5\n",
       "Lead (Pb)                          58      85      81      31\n",
       "Nickel (Ni)                        11       9      10       7\n",
       "Nitrate + Nitrite                  97     123     153      29\n",
       "Orthophosphate (P)                  5       8       5       5\n",
       "Total Kjeldahl Nitrogen (TKN)      99     124     156      37\n",
       "Total Oil & Grease                  5      12       4       5\n",
       "Total Phosphorus                  115     174     203      41\n",
       "Total Suspended Solids            104     151     185      35\n",
       "Zinc (Zn)                          64     101     125      29"
      ]
     },
     "execution_count": 3,
     "metadata": {},
     "output_type": "execute_result"
    }
   ],
   "source": [
    "clean_data.groupby(by=['parameter', 'season']).size().unstack(level='season')"
   ]
  },
  {
   "cell_type": "markdown",
   "metadata": {},
   "source": [
    "### Export TSS to a CSV file"
   ]
  },
  {
   "cell_type": "code",
   "execution_count": 4,
   "metadata": {
    "collapsed": true
   },
   "outputs": [],
   "source": [
    "(\n",
    "    clean_data\n",
    "        .query(\"parameter == 'Total Suspended Solids'\")\n",
    "        .to_csv('NSQD_Res_TSS.csv', index=False)\n",
    ")"
   ]
  }
 ],
 "metadata": {
  "kernelspec": {
   "display_name": "Python 3",
   "language": "python",
   "name": "python3"
  },
  "language_info": {
   "codemirror_mode": {
    "name": "ipython",
    "version": 3
   },
   "file_extension": ".py",
   "mimetype": "text/x-python",
   "name": "python",
   "nbconvert_exporter": "python",
   "pygments_lexer": "ipython3",
   "version": "3.4.4"
  }
 },
 "nbformat": 4,
 "nbformat_minor": 0
}
