{
 "cells": [
  {
   "cell_type": "markdown",
   "metadata": {},
   "source": [
    "# CVC Data Summaries (with simple method hydrology)\n",
    "\n",
    "## Setup the basic working environment"
   ]
  },
  {
   "cell_type": "code",
   "execution_count": null,
   "metadata": {
    "collapsed": false
   },
   "outputs": [],
   "source": [
    "%matplotlib inline\n",
    "\n",
    "import os\n",
    "import sys\n",
    "import datetime\n",
    "import warnings\n",
    "\n",
    "import numpy as np\n",
    "import matplotlib.pyplot as plt\n",
    "import pandas\n",
    "import seaborn\n",
    "seaborn.set(style='ticks', context='paper')\n",
    "\n",
    "import wqio\n",
    "from wqio import utils\n",
    "import pybmpdb\n",
    "import pynsqd\n",
    "\n",
    "import pycvc\n",
    "\n",
    "min_precip = 1.9999\n",
    "big_storm_date = datetime.date(2013, 7, 8)\n",
    "\n",
    "pybmpdb.setMPLStyle()\n",
    "seaborn.set(style='ticks', rc={'text.usetex': False}, palette='deep')\n",
    "\n",
    "POCs = [p['cvcname'] for p in filter(lambda p: p['include'], pycvc.info.POC_dicts)]\n",
    "\n",
    "if wqio.testing.checkdep_tex() is None:\n",
    "    tex_msg = (\"LaTeX not found on system path. You will \"\n",
    "               \"not be able to compile ISRs to PDF files\")\n",
    "    warnings.warn(tex_msg, UserWarning)\n",
    "    \n",
    "warning_filter = \"ignore\" \n",
    "warnings.simplefilter(warning_filter)"
   ]
  },
  {
   "cell_type": "markdown",
   "metadata": {},
   "source": [
    "## Load tidy data\n",
    "Data using the Simple Method hydrology is suffixed with `_simple`.\n",
    "You could also use the SWMM Model hydrology with the `_SWMM` files."
   ]
  },
  {
   "cell_type": "code",
   "execution_count": null,
   "metadata": {
    "collapsed": false
   },
   "outputs": [],
   "source": [
    "# simple method file\n",
    "tidy_file = \"output/tidy/hydro_simple.csv\"\n",
    "\n",
    "\n",
    "# # SWMM Files\n",
    "# tidy_file = \"output/tidy/hydro_swmm.csv\"\n",
    "\n",
    "hydro = pandas.read_csv(tidy_file, parse_dates=['start_date', 'end_date'])"
   ]
  },
  {
   "cell_type": "markdown",
   "metadata": {},
   "source": [
    "## High-level summaries"
   ]
  },
  {
   "cell_type": "markdown",
   "metadata": {},
   "source": [
    "### Hydrologic info and stats\n",
    "Does not include the July 8, 2013 storm event.\n",
    "\n",
    "For LV-1 and LV-2, event durations are winsorized to replace outliers beyond the 97.5 percentile.\n",
    "\n",
    "For more information, see:\n",
    "\n",
    "  1. [scipy.stats.mstats.winsorize](http://docs.scipy.org/doc/scipy/reference/generated/scipy.stats.mstats.winsorize.html)\n",
    "  2. [wqio.utils.winsorize_dataframe](https://github.com/Geosyntec/wqio/blob/6a056bee34f9c3ed8e300c3d6db1130a6f9ce980/wqio/utils/misc.py#L1548)"
   ]
  },
  {
   "cell_type": "code",
   "execution_count": null,
   "metadata": {
    "collapsed": false,
    "scrolled": false
   },
   "outputs": [],
   "source": [
    "def winsorize_duration(g):    \n",
    "    winsor_limits = {\n",
    "        'ED-1': (0.0, 0.0),\n",
    "        'LV-1': (0.2, 0.1),\n",
    "        'LV-2': (0.2, 0.3),\n",
    "        'LV-4': (0.0, 0.0),\n",
    "    }\n",
    "    return wqio.utils.winsorize_dataframe(g, duration_hours=winsor_limits[g.name])\n",
    "\n",
    "with pandas.ExcelWriter(\"output/xlsx/CVCHydro_StormInfo_Simple.xlsx\") as xl_storminfo:\n",
    "    \n",
    "    hydro.to_excel(xl_storminfo, sheet_name='Storm Info', index=False)\n",
    "    for timegroup in [None, 'year', 'season', 'grouped_season']:\n",
    "        stat_options = {\n",
    "            'minprecip': min_precip,\n",
    "            'groupby_col': timegroup,\n",
    "        }\n",
    "\n",
    "        (\n",
    "            hydro.groupby('site')\n",
    "                 .apply(winsorize_duration)\n",
    "                 .pipe(pycvc.summary.remove_load_data_from_storms, [big_storm_date], 'start_date')\n",
    "                 .pipe(pycvc.summary.storm_stats, **stat_options)\n",
    "                 .to_excel(xl_storminfo, sheet_name='Storm Stats - {}'.format(timegroup), index=False)\n",
    "                 \n",
    "        )"
   ]
  },
  {
   "cell_type": "markdown",
   "metadata": {},
   "source": [
    "### Hydrologic Pairplots \n",
    "Expected failures due to lack of data:\n",
    "  1. LV-2, outflow\n",
    "  1. LV-4, grouped_season"
   ]
  },
  {
   "cell_type": "code",
   "execution_count": null,
   "metadata": {
    "collapsed": false,
    "scrolled": false
   },
   "outputs": [],
   "source": [
    "for site in ['ED-1', 'LV-2', 'LV-4']:\n",
    "    for by in ['year', 'outflow', 'season', 'grouped_season']:\n",
    "        try:               \n",
    "            pycvc.viz.hydro_pairplot(hydro, site, by=by)\n",
    "        except:              \n",
    "            print('failed on {}, {}'.format(site, by))"
   ]
  },
  {
   "cell_type": "markdown",
   "metadata": {},
   "source": [
    "### Hydrologic joint distribution plots"
   ]
  },
  {
   "cell_type": "code",
   "execution_count": null,
   "metadata": {
    "collapsed": false,
    "scrolled": false
   },
   "outputs": [],
   "source": [
    "sites = [\n",
    "    {'name': 'ED-1', 'color': seaborn.color_palette()[0]},\n",
    "    {'name': 'LV-1', 'color': seaborn.color_palette()[1]},\n",
    "    {'name': 'LV-2', 'color': seaborn.color_palette()[4]},\n",
    "    {'name': 'LV-4', 'color': seaborn.color_palette()[5]},\n",
    "]\n",
    "for site in sites:   \n",
    "    pycvc.viz.hydro_jointplot(\n",
    "        hydro=hydro, site=site['name'],\n",
    "        xcol='total_precip_depth', \n",
    "        ycol='outflow_mm', \n",
    "        conditions=\"outflow_mm > 0\", \n",
    "        one2one=True,\n",
    "        color=site['color'],\n",
    "    )\n",
    "\n",
    "    pycvc.viz.hydro_jointplot(\n",
    "        hydro=hydro, site=site['name'],\n",
    "        xcol='antecedent_days', \n",
    "        ycol='outflow_mm', \n",
    "        conditions=\"outflow_mm > 0\", \n",
    "        one2one=False,\n",
    "        color=site['color'],\n",
    "    )\n",
    "\n",
    "    pycvc.viz.hydro_jointplot(\n",
    "        hydro=hydro, site=site['name'],\n",
    "        xcol='total_precip_depth', \n",
    "        ycol='antecedent_days', \n",
    "        conditions=\"outflow_mm == 0\", \n",
    "        one2one=False,\n",
    "        color=site['color'],\n",
    "    )\n",
    "    \n",
    "    pycvc.viz.hydro_jointplot(\n",
    "        hydro=hydro, site=site['name'],\n",
    "        xcol='peak_precip_intensity', \n",
    "        ycol='peak_outflow', \n",
    "        conditions=None, \n",
    "        one2one=False,\n",
    "        color=site['color'],\n",
    "    )\n",
    "    \n",
    "    plt.close('all')"
   ]
  }
 ],
 "metadata": {
  "kernelspec": {
   "display_name": "Python 3",
   "language": "python",
   "name": "python3"
  },
  "language_info": {
   "codemirror_mode": {
    "name": "ipython",
    "version": 3
   },
   "file_extension": ".py",
   "mimetype": "text/x-python",
   "name": "python",
   "nbconvert_exporter": "python",
   "pygments_lexer": "ipython3",
   "version": "3.4.4"
  }
 },
 "nbformat": 4,
 "nbformat_minor": 0
}
