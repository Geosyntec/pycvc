{
 "cells": [
  {
   "cell_type": "markdown",
   "metadata": {},
   "source": [
    "# Storm Depth Histograms\n",
    "\n",
    "## Setup the basic working environment"
   ]
  },
  {
   "cell_type": "code",
   "execution_count": null,
   "metadata": {
    "collapsed": false
   },
   "outputs": [],
   "source": [
    "import warnings\n",
    "\n",
    "import matplotlib.pyplot as plt\n",
    "import pandas\n",
    "import seaborn\n",
    "\n",
    "import pycvc\n",
    "\n",
    "warnings.simplefilter(\"ignore\")\n",
    "\n",
    "palette = seaborn.color_palette('deep', n_colors=6)\n",
    "seaborn.set(style='ticks', context='paper', rc={'text.usetex': False})\n",
    "%matplotlib inline"
   ]
  },
  {
   "cell_type": "markdown",
   "metadata": {},
   "source": [
    "## Create CVC *`Database`* and *`Site`* objects"
   ]
  },
  {
   "cell_type": "code",
   "execution_count": null,
   "metadata": {
    "collapsed": false
   },
   "outputs": [],
   "source": [
    "cvcdbfile = \"C:/users/phobson/Desktop/scratch/cvc/cvc.accdb\"\n",
    "cvcdb = pycvc.Database(cvcdbfile, None, None, testing=False)\n",
    "\n",
    "LV1 = pycvc.Site(db=cvcdb, siteid='LV-1', raingauge='LV-1', tocentry='Lakeview Control', \n",
    "                 isreference=True, minprecip=1.999, color=palette[1], marker='s')"
   ]
  },
  {
   "cell_type": "markdown",
   "metadata": {},
   "source": [
    "### Function to classify storms by depth"
   ]
  },
  {
   "cell_type": "code",
   "execution_count": null,
   "metadata": {
    "collapsed": true
   },
   "outputs": [],
   "source": [
    "def storm_classifier(storm_depth):\n",
    "    if storm_depth < 5:\n",
    "        label = \"<5 mm\"\n",
    "    elif storm_depth < 10:\n",
    "        label = \"5 - 10 mm\"\n",
    "    elif storm_depth < 15:\n",
    "        label = \"10 - 15 mm\"\n",
    "    elif storm_depth < 20:\n",
    "        label = \"15 - 20 mm\"\n",
    "    elif storm_depth < 25:\n",
    "        label = \"20 - 25 mm\"\n",
    "    elif storm_depth >= 25:\n",
    "        label = \">25 mm\"\n",
    "    else:\n",
    "        label = None\n",
    "        \n",
    "    return label"
   ]
  },
  {
   "cell_type": "markdown",
   "metadata": {},
   "source": [
    "### Function to draw a histogram of storm depths\n",
    "\n",
    "    \n",
    "#### Parameters\n",
    "`site` : **pycvc.Site** object\n",
    "> A object representing a CVC monitoring site.\n",
    "\n",
    "`rowcol, huecol` : string, optional\n",
    "> Column names that will be used to facet the data\n",
    "> into different rows and hues, respectively.\n",
    "> Valid values are the following:\n",
    ">   - \"year\"\n",
    ">   - \"season\"\n",
    ">   - \"grouped_season\"\n",
    ">   - \"has_outflow\"\n",
    "\n",
    "`filename` : string, optional\n",
    "> The path and name of a file to which the plots will\n",
    "> be saved.\n",
    "\n",
    "#### Returns\n",
    "`df` : **pandas.DataFrame**\n",
    "> Dataframe with all of the relevant hydrologic information.\n",
    "\n",
    "`fig` : **seaborn.FacetGrid**\n",
    "> The figure containing the axes and artists that represent\n",
    "> the histogram.\n",
    "\n",
    "#### Examples\n",
    "```python\n",
    "import pycvc\n",
    "cvcdbfile = \"C:/users/phobson/Desktop/cvc.accdb\"\n",
    "cvcdb = pycvc.Database(cvcdbfile, None, None, testing=False)\n",
    "LV1 = pycvc.Site(db=cvcdb, siteid='LV-1', raingauge='LV-1', tocentry='Lakeview Control', \n",
    "                 isreference=True, minprecip=1.999, color=palette[1], marker='s')\n",
    "df, fig = storm_hist(LV1.storm_info, huecol='has_outflow', filename='MyHistogram.png') \n",
    "```\n"
   ]
  },
  {
   "cell_type": "code",
   "execution_count": null,
   "metadata": {
    "collapsed": false
   },
   "outputs": [],
   "source": [
    "def storm_hist(site, rowcol=None, huecol=None, filename=None):\n",
    "\n",
    "    cats = [\"<5 mm\", \"5 - 10 mm\", \"10 - 15 mm\", \"15 - 20 mm\", \"20 - 25 mm\", \">25 mm\"]\n",
    "    prelim_cols = ['year', 'season', 'grouped_season', 'total_precip_depth', 'has_outflow']\n",
    "    df = site.storm_info.copy()[prelim_cols]\n",
    "    df['Storm Size'] = (\n",
    "        df['total_precip_depth']\n",
    "            .apply(storm_classifier)\n",
    "            .astype(\"category\", categories=cats, ordered=True)\n",
    "    )\n",
    "    \n",
    "    fig = seaborn.factorplot(\n",
    "        data=df, \n",
    "        x='Storm Size', \n",
    "        hue=huecol,\n",
    "        row=rowcol,\n",
    "        kind='count', \n",
    "        aspect=1.6,\n",
    "    ).set_ylabels(\"Occurences\")\n",
    "    \n",
    "    if filename is not None:\n",
    "        fig.savefig(filename, dpi=300)\n",
    "    \n",
    "    return df, fig"
   ]
  },
  {
   "cell_type": "markdown",
   "metadata": {},
   "source": [
    "## Example Figures"
   ]
  },
  {
   "cell_type": "markdown",
   "metadata": {},
   "source": [
    "### Histogram divied up by the presence of outflow"
   ]
  },
  {
   "cell_type": "code",
   "execution_count": null,
   "metadata": {
    "collapsed": false,
    "scrolled": false
   },
   "outputs": [],
   "source": [
    "df, fig = storm_hist(LV1, huecol='has_outflow') \n",
    "fig    "
   ]
  },
  {
   "cell_type": "markdown",
   "metadata": {},
   "source": [
    "### Put the grouped seasons in rows, ignore outflow"
   ]
  },
  {
   "cell_type": "code",
   "execution_count": null,
   "metadata": {
    "collapsed": false
   },
   "outputs": [],
   "source": [
    "df, fig = storm_hist(LV1, rowcol='grouped_season') \n",
    "fig   "
   ]
  },
  {
   "cell_type": "markdown",
   "metadata": {},
   "source": [
    "### Color by years, rows by outflow"
   ]
  },
  {
   "cell_type": "code",
   "execution_count": null,
   "metadata": {
    "collapsed": false
   },
   "outputs": [],
   "source": [
    "df, fig = storm_hist(LV1, huecol='year', rowcol='has_outflow') \n",
    "fig   "
   ]
  }
 ],
 "metadata": {
  "kernelspec": {
   "display_name": "Python 3",
   "language": "python",
   "name": "python3"
  },
  "language_info": {
   "codemirror_mode": {
    "name": "ipython",
    "version": 3
   },
   "file_extension": ".py",
   "mimetype": "text/x-python",
   "name": "python",
   "nbconvert_exporter": "python",
   "pygments_lexer": "ipython3",
   "version": "3.4.4"
  }
 },
 "nbformat": 4,
 "nbformat_minor": 0
}
