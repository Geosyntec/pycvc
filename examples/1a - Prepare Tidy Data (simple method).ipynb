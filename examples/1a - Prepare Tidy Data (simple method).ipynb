{
 "cells": [
  {
   "cell_type": "markdown",
   "metadata": {},
   "source": [
    "# Prepare Tidy CVC Datasets (with simple method hydrology)\n",
    "\n",
    "## Setup the basic working environment"
   ]
  },
  {
   "cell_type": "code",
   "execution_count": null,
   "metadata": {
    "collapsed": false
   },
   "outputs": [],
   "source": [
    "%matplotlib inline\n",
    "\n",
    "import os\n",
    "import sys\n",
    "import datetime\n",
    "import warnings\n",
    "import csv\n",
    "\n",
    "import numpy as np\n",
    "import matplotlib.pyplot as plt\n",
    "import pandas\n",
    "import seaborn\n",
    "seaborn.set(style='ticks', context='paper')\n",
    "\n",
    "import wqio\n",
    "import pybmpdb\n",
    "import pynsqd\n",
    "\n",
    "import pycvc\n",
    "\n",
    "min_precip = 1.9999\n",
    "big_storm_date = datetime.date(2013, 7, 8)\n",
    "\n",
    "palette = seaborn.color_palette('deep', n_colors=6)\n",
    "pybmpdb.setMPLStyle()\n",
    "POCs = [\n",
    "    p['cvcname'] \n",
    "    for p in filter(\n",
    "        lambda p: p['include'],\n",
    "        pycvc.info.POC_dicts\n",
    "    )\n",
    "]\n",
    "\n",
    "if wqio.testing.checkdep_tex() is None:\n",
    "    tex_msg = (\"LaTeX not found on system path. You will \"\n",
    "               \"not be able to compile ISRs to PDF files\")\n",
    "    warnings.warn(tex_msg, UserWarning)\n",
    "    \n",
    "warning_filter = \"ignore\" \n",
    "warnings.simplefilter(warning_filter)"
   ]
  },
  {
   "cell_type": "markdown",
   "metadata": {},
   "source": [
    "## Load External Data (this takes a while)"
   ]
  },
  {
   "cell_type": "code",
   "execution_count": null,
   "metadata": {
    "collapsed": false,
    "scrolled": false
   },
   "outputs": [],
   "source": [
    "bmpdb = pycvc.external.bmpdb(palette[3], 'D')\n",
    "nsqdata = pycvc.external.nsqd(palette[2], 'd')"
   ]
  },
  {
   "cell_type": "markdown",
   "metadata": {},
   "source": [
    "## Load CVC Database"
   ]
  },
  {
   "cell_type": "code",
   "execution_count": null,
   "metadata": {
    "collapsed": false
   },
   "outputs": [],
   "source": [
    "cvcdbfile = \"C:/users/phobson/Desktop/scratch/cvc/cvc.accdb\"\n",
    "cvcdb = pycvc.Database(dbfile, nsqdata, bmpdb)"
   ]
  },
  {
   "cell_type": "markdown",
   "metadata": {},
   "source": [
    "## Define the site object for the reference site and compute its median values (\"influent\" to other sites)"
   ]
  },
  {
   "cell_type": "code",
   "execution_count": null,
   "metadata": {
    "collapsed": false
   },
   "outputs": [],
   "source": [
    "LV1 = pycvc.Site(db=cvcdb, siteid='LV-1', raingauge='LV-1', tocentry='Lakeview Control', \n",
    "                 isreference=True,  minprecip=min_precip, color=palette[1], marker='s')"
   ]
  },
  {
   "cell_type": "markdown",
   "metadata": {},
   "source": [
    "### Define the reference sites runoff function and assign it to the object"
   ]
  },
  {
   "cell_type": "code",
   "execution_count": null,
   "metadata": {
    "collapsed": false
   },
   "outputs": [],
   "source": [
    "def LV1_runoff(row):\n",
    "    return LV1.drainagearea.simple_method(row['total_precip_depth'], volume_conversion=0.001)\n",
    "\n",
    "LV1.runoff_fxn = LV1_runoff"
   ]
  },
  {
   "cell_type": "markdown",
   "metadata": {},
   "source": [
    "## Define \"influent\" medians for each non-reference site"
   ]
  },
  {
   "cell_type": "code",
   "execution_count": null,
   "metadata": {
    "collapsed": true
   },
   "outputs": [],
   "source": [
    "def rename_influent_cols(col):\n",
    "    if col.lower() in ['parameter', 'units', 'season']:\n",
    "        newcol = col.lower()\n",
    "    else:\n",
    "        newcol = 'influent {}'.format(col.lower())\n",
    "        \n",
    "    return newcol.replace(' nsqd ', ' ').replace(' effluent ', ' ')"
   ]
  },
  {
   "cell_type": "markdown",
   "metadata": {},
   "source": [
    "### Lakeview BMP sites get their \"influent\" data from LV-1"
   ]
  },
  {
   "cell_type": "code",
   "execution_count": null,
   "metadata": {
    "collapsed": false,
    "scrolled": false
   },
   "outputs": [],
   "source": [
    "LV_Influent = (\n",
    "    LV1.medians(\"concentration\", groupby_col='season')\n",
    "       .rename(columns={'effluent stat': 'median'})\n",
    "       .rename(columns=rename_influent_cols)\n",
    ")\n",
    "\n",
    "LV1.influentmedians = LV_Influent\n",
    "LV_Influent.head()"
   ]
  },
  {
   "cell_type": "markdown",
   "metadata": {},
   "source": [
    "### Elm Drive's \"influent\" data come from NSQD"
   ]
  },
  {
   "cell_type": "code",
   "execution_count": null,
   "metadata": {
    "collapsed": false
   },
   "outputs": [],
   "source": [
    "ED_Influent = (\n",
    "    cvcdb.nsqdata\n",
    "         .seasonal_medians\n",
    "         .rename(columns=rename_influent_cols)\n",
    ")\n",
    "ED_Influent.head()"
   ]
  },
  {
   "cell_type": "markdown",
   "metadata": {},
   "source": [
    "### Remaining site objects"
   ]
  },
  {
   "cell_type": "code",
   "execution_count": null,
   "metadata": {
    "collapsed": true
   },
   "outputs": [],
   "source": [
    "ED1 = pycvc.Site(db=cvcdb, siteid='ED-1', raingauge='ED-1',\n",
    "                 tocentry='Elm Drive', influentmedians=ED_Influent, \n",
    "                 minprecip=min_precip, isreference=False,\n",
    "                 color=palette[0], marker='o')\n",
    "\n",
    "LV2 = pycvc.Site(db=cvcdb, siteid='LV-2', raingauge='LV-1',\n",
    "                 tocentry='Lakeview Grass Swale', influentmedians=LV_Influent, \n",
    "                 minprecip=min_precip, isreference=False,\n",
    "                 color=palette[4], marker='^')\n",
    "\n",
    "LV4 = pycvc.Site(db=cvcdb, siteid='LV-4', raingauge='LV-1',\n",
    "                 tocentry=r'Lakeview Bioswale 1$^{\\mathrm{st}}$ South Side', \n",
    "                 influentmedians=LV_Influent, \n",
    "                 minprecip=min_precip, isreference=False,\n",
    "                 color=palette[5], marker='v')"
   ]
  },
  {
   "cell_type": "markdown",
   "metadata": {},
   "source": [
    "### Define runoff, inflow equations and assign to object"
   ]
  },
  {
   "cell_type": "markdown",
   "metadata": {},
   "source": [
    "#### Elm Drive"
   ]
  },
  {
   "cell_type": "code",
   "execution_count": null,
   "metadata": {
    "collapsed": true
   },
   "outputs": [],
   "source": [
    "def ED1_runoff(row):\n",
    "    return ED1.drainagearea.simple_method(row['total_precip_depth'], volume_conversion=0.001)\n",
    "\n",
    "def ED1_inflow(row):\n",
    "    return ED1_runoff(row)\n",
    "\n",
    "ED1.runoff_fxn = ED1_runoff\n",
    "ED1.inflow_fxn = ED1_inflow"
   ]
  },
  {
   "cell_type": "markdown",
   "metadata": {},
   "source": [
    "#### Lakeview 2"
   ]
  },
  {
   "cell_type": "code",
   "execution_count": null,
   "metadata": {
    "collapsed": true
   },
   "outputs": [],
   "source": [
    "def LV2_runoff(row):\n",
    "    return LV2.drainagearea.simple_method(row['total_precip_depth'], volume_conversion=0.001)\n",
    "\n",
    "def LV2_inflow(row):\n",
    "    return LV2_runoff(row)\n",
    "\n",
    "LV2.runoff_fxn = LV2_runoff\n",
    "LV2.inflow_fxn = LV2_inflow"
   ]
  },
  {
   "cell_type": "markdown",
   "metadata": {},
   "source": [
    "#### Lakeview 4"
   ]
  },
  {
   "cell_type": "code",
   "execution_count": null,
   "metadata": {
    "collapsed": false
   },
   "outputs": [],
   "source": [
    "def LV4_runoff(row):\n",
    "    return LV4.drainagearea.simple_method(row['total_precip_depth'], volume_conversion=0.001)\n",
    "\n",
    "def LV4_inflow(row):\n",
    "    return LV4_runoff(row)\n",
    "\n",
    "LV4.runoff_fxn = LV4_runoff\n",
    "LV4.inflow_fxn = LV4_inflow"
   ]
  },
  {
   "cell_type": "markdown",
   "metadata": {},
   "source": [
    "### Fix ED-1 storm that had two composite samples"
   ]
  },
  {
   "cell_type": "code",
   "execution_count": null,
   "metadata": {
    "collapsed": false
   },
   "outputs": [],
   "source": [
    "ED1.hydrodata.data.loc['2012-08-10 23:50:00':'2012-08-11 05:20', 'storm'] = 0\n",
    "ED1.hydrodata.data.loc['2012-08-11 05:30':, 'storm'] += 1"
   ]
  },
  {
   "cell_type": "markdown",
   "metadata": {},
   "source": [
    "### Use spreadsheet-modeled outflow for the July 8, 2013 event at ED-1"
   ]
  },
  {
   "cell_type": "code",
   "execution_count": null,
   "metadata": {
    "collapsed": false
   },
   "outputs": [],
   "source": [
    "# volume from the spreadsheet model\n",
    "modeled_inflow_Liters = 430603\n",
    "modeled_outflow_Liters = 250965\n",
    "\n",
    "# select the big storm\n",
    "bigstorm = ED1.storm_info.loc[ED1.storm_info.start_date.dt.date == big_storm_date].iloc[0]\n",
    "\n",
    "# overwrite values in the storm_info dataframe\n",
    "ED1.storm_info.loc[bigstorm.name, 'inflow_m3'] = modeled_inflow_Liters / pycvc.info.LITERS_PER_CUBICMETER\n",
    "ED1.storm_info.loc[bigstorm.name, 'outflow_m3'] = modeled_outflow_Liters / pycvc.info.LITERS_PER_CUBICMETER\n",
    "\n",
    "# modify the volumes in the individual storm objects\n",
    "ED1.storms[bigstorm.storm_number].total_inflow_volume = modeled_inflow_Liters / pycvc.info.LITERS_PER_CUBICMETER\n",
    "ED1.storms[bigstorm.storm_number].total_outflow_volume = modeled_outflow_Liters / pycvc.info.LITERS_PER_CUBICMETER"
   ]
  },
  {
   "cell_type": "markdown",
   "metadata": {},
   "source": [
    "## Export project-wide tidy datasets\n",
    "\n",
    "### Hydrologic (storm) data"
   ]
  },
  {
   "cell_type": "code",
   "execution_count": null,
   "metadata": {
    "collapsed": false
   },
   "outputs": [],
   "source": [
    "hydro = pycvc.summary.collect_tidy_data(\n",
    "    [ED1, LV1, LV2, LV4], \n",
    "    lambda s: s.tidy_hydro\n",
    ")\n",
    "hydro.to_csv('output/tidy/hydro_simple.csv', index=False)\n"
   ]
  },
  {
   "cell_type": "markdown",
   "metadata": {},
   "source": [
    "### Water quality data"
   ]
  },
  {
   "cell_type": "code",
   "execution_count": null,
   "metadata": {
    "collapsed": false
   },
   "outputs": [],
   "source": [
    "wq = pycvc.summary.collect_tidy_data(\n",
    "    [ED1, LV1, LV2, LV4], \n",
    "    lambda s: s.tidy_wq\n",
    ")\n",
    "wq.to_csv('output/tidy/wq_simple.csv', index=False)"
   ]
  },
  {
   "cell_type": "markdown",
   "metadata": {},
   "source": [
    "## Individual Storm Reports\n",
    "(requires $\\LaTeX$)"
   ]
  },
  {
   "cell_type": "code",
   "execution_count": null,
   "metadata": {
    "collapsed": false
   },
   "outputs": [],
   "source": [
    "for site in [ED1, LV1, LV2, LV4]:\n",
    "    print('\\n----Compiling ISR for {0}----'.format(site.siteid))\n",
    "    site.allISRs('composite', version='draft')"
   ]
  }
 ],
 "metadata": {
  "kernelspec": {
   "display_name": "Python 3",
   "language": "python",
   "name": "python3"
  },
  "language_info": {
   "codemirror_mode": {
    "name": "ipython",
    "version": 3
   },
   "file_extension": ".py",
   "mimetype": "text/x-python",
   "name": "python",
   "nbconvert_exporter": "python",
   "pygments_lexer": "ipython3",
   "version": "3.4.4"
  }
 },
 "nbformat": 4,
 "nbformat_minor": 0
}
