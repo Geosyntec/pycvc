{
 "cells": [
  {
   "cell_type": "markdown",
   "metadata": {},
   "source": [
    "# CVC Data Summaries\n",
    "\n",
    "## Setup the basic working environment"
   ]
  },
  {
   "cell_type": "code",
   "execution_count": null,
   "metadata": {
    "collapsed": false
   },
   "outputs": [],
   "source": [
    "%matplotlib inline\n",
    "\n",
    "import os\n",
    "import sys\n",
    "import datetime\n",
    "import warnings\n",
    "\n",
    "import numpy as np\n",
    "import matplotlib.pyplot as plt\n",
    "import pandas\n",
    "import seaborn\n",
    "seaborn.set(style='ticks', context='paper')\n",
    "\n",
    "import wqio\n",
    "import pybmpdb\n",
    "import pynsqd\n",
    "\n",
    "import pycvc\n",
    "\n",
    "min_precip = 1.9999\n",
    "palette = seaborn.color_palette('deep', n_colors=6)\n",
    "pybmpdb.setMPLStyle()\n",
    "POCs = [p['cvcname'] for p in filter(lambda p: p['include'], pycvc.info.POC_dicts)]\n",
    "\n",
    "if wqio.testing.checkdep_tex() is None:\n",
    "    warnings.warn(\"LaTeX not found on system path. You will not be able to compile ISRs to PDF files\", UserWarning)"
   ]
  },
  {
   "cell_type": "markdown",
   "metadata": {},
   "source": [
    "## Load External Data (this takes a while)"
   ]
  },
  {
   "cell_type": "code",
   "execution_count": null,
   "metadata": {
    "collapsed": false,
    "scrolled": false
   },
   "outputs": [],
   "source": [
    "bmpdb = pycvc.external.bmpdb(palette[3], 'D')\n",
    "nsqdata = pycvc.external.nsqd(palette[2], 'd')"
   ]
  },
  {
   "cell_type": "markdown",
   "metadata": {},
   "source": [
    "## Load CVC Database"
   ]
  },
  {
   "cell_type": "code",
   "execution_count": null,
   "metadata": {
    "collapsed": false
   },
   "outputs": [],
   "source": [
    "cvcdbfile = \"C:/users/phobson/Desktop/cvc.accdb\"\n",
    "cvcdb = pycvc.Database(cvcdbfile, nsqdata, bmpdb, testing=False)"
   ]
  },
  {
   "cell_type": "markdown",
   "metadata": {},
   "source": [
    "## Define the site object for the reference site and compute its median values (\"influent\" to other sites)"
   ]
  },
  {
   "cell_type": "code",
   "execution_count": null,
   "metadata": {
    "collapsed": false
   },
   "outputs": [],
   "source": [
    "LV1 = pycvc.Site(db=cvcdb, siteid='LV-1', raingauge='LV-1', tocentry='Lakeview Control', \n",
    "                 isreference=True, influentmedians=pycvc.wqstd_template(),\n",
    "                 minprecip=min_precip, color=palette[1], marker='s')"
   ]
  },
  {
   "cell_type": "markdown",
   "metadata": {},
   "source": [
    "### Define the reference sites runoff function and assign it to the object"
   ]
  },
  {
   "cell_type": "code",
   "execution_count": null,
   "metadata": {
    "collapsed": true
   },
   "outputs": [],
   "source": [
    "def LV1_runoff(row):\n",
    "    return LV1.drainagearea.simple_method(row['total_precip_depth'])\n",
    "\n",
    "LV1.runoff_fxn = LV1_runoff"
   ]
  },
  {
   "cell_type": "markdown",
   "metadata": {},
   "source": [
    "### Lakeview BMP sites get their \"influent\" data from LV-1"
   ]
  },
  {
   "cell_type": "code",
   "execution_count": null,
   "metadata": {
    "collapsed": false
   },
   "outputs": [],
   "source": [
    "LV_Influent = (\n",
    "    LV1.wqdata\n",
    "       .query(\"sampletype == 'composite'\")\n",
    "       .groupby(by=['season', 'parameter', 'units'])['concentration']\n",
    "       .median()\n",
    "       .reset_index()\n",
    "       .rename(columns={'concentration': 'influent median'}) \n",
    ")\n",
    "LV_Influent.head()"
   ]
  },
  {
   "cell_type": "markdown",
   "metadata": {},
   "source": [
    "### Elm Drive's \"influent\" data come from NSQD"
   ]
  },
  {
   "cell_type": "code",
   "execution_count": null,
   "metadata": {
    "collapsed": false
   },
   "outputs": [],
   "source": [
    "ED_Influent = (\n",
    "    cvcdb.nsqdata\n",
    "         .medians.copy()\n",
    "         .rename(columns={'NSQD Medians': 'influent median'})\n",
    ")\n",
    "ED_Influent.head()"
   ]
  },
  {
   "cell_type": "markdown",
   "metadata": {},
   "source": [
    "### Remaining site objects"
   ]
  },
  {
   "cell_type": "code",
   "execution_count": null,
   "metadata": {
    "collapsed": true
   },
   "outputs": [],
   "source": [
    "ED1 = pycvc.Site(db=cvcdb, siteid='ED-1', raingauge='ED-1',\n",
    "                 tocentry='Elm Drive', influentmedians=ED_Influent, \n",
    "                 minprecip=min_precip, isreference=False,\n",
    "                 color=palette[0], marker='o')\n",
    "\n",
    "LV2 = pycvc.Site(db=cvcdb, siteid='LV-2', raingauge='LV-1',\n",
    "                 tocentry='Lakeview Grass Swale', influentmedians=LV_Influent, \n",
    "                 minprecip=min_precip, isreference=False,\n",
    "                 color=palette[4], marker='^')\n",
    "\n",
    "LV4 = pycvc.Site(db=cvcdb, siteid='LV-4', raingauge='LV-1',\n",
    "                 tocentry=r'Lakeview Bioswale 1$^{\\mathrm{st}}$ South Side', \n",
    "                 influentmedians=LV_Influent, \n",
    "                 minprecip=min_precip, isreference=False,\n",
    "                 color=palette[5], marker='v')"
   ]
  },
  {
   "cell_type": "markdown",
   "metadata": {},
   "source": [
    "### Define runoff, inflow equations and assign to object"
   ]
  },
  {
   "cell_type": "markdown",
   "metadata": {},
   "source": [
    "#### Elm Drive"
   ]
  },
  {
   "cell_type": "code",
   "execution_count": null,
   "metadata": {
    "collapsed": true
   },
   "outputs": [],
   "source": [
    "def ED1_runoff(row):\n",
    "    return ED1.drainagearea.simple_method(row['total_precip_depth'])\n",
    "\n",
    "def ED1_inflow(row):\n",
    "    return ED1_runoff(row)\n",
    "\n",
    "ED1.runoff_fxn = ED1_runoff\n",
    "ED1.inflow_fxn = ED1_inflow"
   ]
  },
  {
   "cell_type": "markdown",
   "metadata": {},
   "source": [
    "#### Lakeview 2"
   ]
  },
  {
   "cell_type": "code",
   "execution_count": null,
   "metadata": {
    "collapsed": true
   },
   "outputs": [],
   "source": [
    "def LV2_runoff(row):\n",
    "    return LV2.drainagearea.simple_method(row['total_precip_depth'])\n",
    "\n",
    "def LV2_inflow(row):\n",
    "    return LV2_runoff(row)\n",
    "\n",
    "LV2.runoff_fxn = LV2_runoff\n",
    "LV2.inflow_fxn = LV2_inflow"
   ]
  },
  {
   "cell_type": "markdown",
   "metadata": {},
   "source": [
    "#### Lakeview 4"
   ]
  },
  {
   "cell_type": "code",
   "execution_count": null,
   "metadata": {
    "collapsed": false
   },
   "outputs": [],
   "source": [
    "def LV4_runoff(row):\n",
    "    return LV4.drainagearea.simple_method(row['total_precip_depth'])\n",
    "\n",
    "def LV4_inflow(row):\n",
    "    return LV4_runoff(row)\n",
    "\n",
    "LV4.runoff_fxn = LV4_runoff\n",
    "LV4.inflow_fxn = LV4_inflow"
   ]
  },
  {
   "cell_type": "markdown",
   "metadata": {},
   "source": [
    "### Fix ED-1 storm that had two composite samples"
   ]
  },
  {
   "cell_type": "code",
   "execution_count": null,
   "metadata": {
    "collapsed": false
   },
   "outputs": [],
   "source": [
    "ED1.hydrodata.data.loc['2012-08-10 23:50:00':'2012-08-11 05:20', 'storm'] = 0\n",
    "ED1.hydrodata.data.loc['2012-08-11 05:30':, 'storm'] += 1"
   ]
  },
  {
   "cell_type": "markdown",
   "metadata": {},
   "source": [
    "## High-level summaries"
   ]
  },
  {
   "cell_type": "markdown",
   "metadata": {},
   "source": [
    "### Hydrologic Summary"
   ]
  },
  {
   "cell_type": "code",
   "execution_count": null,
   "metadata": {
    "collapsed": false
   },
   "outputs": [],
   "source": [
    "stormfile = pandas.ExcelWriter(\"output/xlsx/CVCHydro_StormInfo.xlsx\")\n",
    "hydrofile = pandas.ExcelWriter(\"output/xlsx/CVCHydro_StormStats.xlsx\")\n",
    "\n",
    "with pandas.ExcelWriter(\"output/xlsx/CVCHydro_StormStats.xlsx\") as hydrofile,\\\n",
    "     pandas.ExcelWriter(\"output/xlsx/CVCHydro_StormInfo.xlsx\") as stormfile: \n",
    "    for site in [ED1, LV1, LV2, LV4]:\n",
    "        site.storm_info.to_excel(stormfile, sheet_name=site.siteid)\n",
    "        site.storm_stats.to_excel(hydrofile, sheet_name=site.siteid)"
   ]
  },
  {
   "cell_type": "markdown",
   "metadata": {},
   "source": [
    "### Hydrologic Pairplots \n",
    "(failing on LV-2's outflow is expected)"
   ]
  },
  {
   "cell_type": "code",
   "execution_count": null,
   "metadata": {
    "collapsed": false,
    "scrolled": true
   },
   "outputs": [],
   "source": [
    "for site in [ED1, LV2, LV4]:\n",
    "    for by in ['year', 'outflow', 'season']:\n",
    "        try:               \n",
    "            site.hydro_pairplot(by=by)\n",
    "        except:\n",
    "            print('failed on {}, {}'.format(site, by))"
   ]
  },
  {
   "cell_type": "markdown",
   "metadata": {},
   "source": [
    "### Prevalence Tables"
   ]
  },
  {
   "cell_type": "code",
   "execution_count": null,
   "metadata": {
    "collapsed": false
   },
   "outputs": [],
   "source": [
    "with pandas.ExcelWriter('output/xlsx/CVCWQ_DataInventory.xlsx') as prev_tables:\n",
    "    for site in [ED1, LV1, LV2, LV4]:\n",
    "        stype = 'composite'\n",
    "        site.prevalence_table()[stype].to_excel(prev_tables, sheet_name='{}'.format(site.siteid))"
   ]
  },
  {
   "cell_type": "markdown",
   "metadata": {},
   "source": [
    "### Concentrations Stats"
   ]
  },
  {
   "cell_type": "code",
   "execution_count": null,
   "metadata": {
    "collapsed": false,
    "scrolled": false
   },
   "outputs": [],
   "source": [
    "with pandas.ExcelWriter('output/xlsx/CVCWQ_ConcStats.xlsx') as concfile:\n",
    "    for site in [ED1, LV1, LV2, LV4]:\n",
    "        concs = site.wq_summary('concentration', sampletype='composite').T\n",
    "        concs.to_excel(concfile, sheet_name=site.siteid, na_rep='--')"
   ]
  },
  {
   "cell_type": "markdown",
   "metadata": {},
   "source": [
    "### Load Stats"
   ]
  },
  {
   "cell_type": "code",
   "execution_count": null,
   "metadata": {
    "collapsed": false
   },
   "outputs": [],
   "source": [
    "with pandas.ExcelWriter('output/xlsx/CVCWQ_LoadStats.xlsx') as loadstats:\n",
    "    for site in [ED1, LV1, LV2, LV4]:\n",
    "        load = (\n",
    "            site.wq_summary('load_outflow', sampletype='composite')\n",
    "                .stack(level='parameter')\n",
    "                .stack(level='load_units')\n",
    "        )\n",
    "        load.to_excel(loadstats, sheet_name=site.siteid, na_rep='--')"
   ]
  },
  {
   "cell_type": "markdown",
   "metadata": {},
   "source": [
    "### Tidy Data"
   ]
  },
  {
   "cell_type": "code",
   "execution_count": null,
   "metadata": {
    "collapsed": false
   },
   "outputs": [],
   "source": [
    "with pandas.ExcelWriter('output/xlsx/CVCWQ_TidyData.xlsx') as tidyfile:\n",
    "    for site in [ED1, LV1, LV2, LV4]:\n",
    "        site.tidy_data.to_excel(tidyfile, sheet_name=site.siteid, na_rep='--')"
   ]
  },
  {
   "cell_type": "markdown",
   "metadata": {},
   "source": [
    "### Total Loads Summary"
   ]
  },
  {
   "cell_type": "code",
   "execution_count": null,
   "metadata": {
    "collapsed": false,
    "scrolled": false
   },
   "outputs": [],
   "source": [
    "with pandas.ExcelWriter('output/xlsx/CVCWQ_LoadTotals.xlsx') as loadfile:\n",
    "    for site in [ED1, LV1, LV2, LV4]:\n",
    "        loads = site.load_totals(sampletype='composite')\n",
    "        loads.to_excel(loadfile, sheet_name=site.siteid, na_rep='--')"
   ]
  },
  {
   "cell_type": "markdown",
   "metadata": {},
   "source": [
    "## Analysis"
   ]
  },
  {
   "cell_type": "code",
   "execution_count": null,
   "metadata": {
    "collapsed": true
   },
   "outputs": [],
   "source": [
    "seaborn.set(style='ticks', context='paper')\n",
    "pybmpdb.setMPLStyle()"
   ]
  },
  {
   "cell_type": "markdown",
   "metadata": {},
   "source": [
    "### Individual Storm Reports\n",
    "(requires $\\LaTeX$)"
   ]
  },
  {
   "cell_type": "code",
   "execution_count": null,
   "metadata": {
    "collapsed": false
   },
   "outputs": [],
   "source": [
    "for site in [ED1, LV1, LV2, LV4]:\n",
    "    print('\\n----Compiling ISR for {0}----'.format(site.siteid))\n",
    "    site.allISRs('composite', version='draft')"
   ]
  },
  {
   "cell_type": "markdown",
   "metadata": {},
   "source": [
    "### Precip-outflow scatter plots"
   ]
  },
  {
   "cell_type": "code",
   "execution_count": null,
   "metadata": {
    "collapsed": false
   },
   "outputs": [],
   "source": [
    "for site in [ED1, LV1, LV2, LV4]:\n",
    "    print('\\n----Summarizing {0}----'.format(site.siteid))\n",
    "    \n",
    "    site.hydro_jointplot(\n",
    "        xcol='total_precip_depth', \n",
    "        ycol='outflow_mm', \n",
    "        conditions=\"outflow_mm > 0\", \n",
    "        one2one=True\n",
    "    )\n",
    "\n",
    "    site.hydro_jointplot(\n",
    "        xcol='antecedent_days', \n",
    "        ycol='outflow_mm', \n",
    "        conditions=\"outflow_mm > 0\", \n",
    "        one2one=False\n",
    "    )\n",
    "\n",
    "    site.hydro_jointplot(\n",
    "        xcol='total_precip_depth', \n",
    "        ycol='antecedent_days', \n",
    "        conditions=\"outflow_mm == 0\", \n",
    "        one2one=False\n",
    "    )\n",
    "    \n",
    "    site.hydro_jointplot(\n",
    "        xcol='peak_precip_intensity', \n",
    "        ycol='peak_outflow', \n",
    "        conditions=None, \n",
    "        one2one=False\n",
    "    )\n",
    "    \n",
    "    plt.close('all')"
   ]
  },
  {
   "cell_type": "markdown",
   "metadata": {},
   "source": [
    "## WQ Comparison"
   ]
  },
  {
   "cell_type": "markdown",
   "metadata": {},
   "source": [
    "### Lists of sites to compare"
   ]
  },
  {
   "cell_type": "code",
   "execution_count": null,
   "metadata": {
    "collapsed": true
   },
   "outputs": [],
   "source": [
    "site_lists = [\n",
    "    [ED1],\n",
    "    [LV1, LV2, LV4],\n",
    "]"
   ]
  },
  {
   "cell_type": "markdown",
   "metadata": {},
   "source": [
    "### Individual Figures"
   ]
  },
  {
   "cell_type": "code",
   "execution_count": null,
   "metadata": {
    "collapsed": false,
    "scrolled": true
   },
   "outputs": [],
   "source": [
    "for sl in site_lists:\n",
    "    print('\\n----Comparing {}----'.format(', '.join([s.siteid for s in sl])))\n",
    "    for poc in POCs:\n",
    "        print('  ' + poc)\n",
    "        \n",
    "        wqcomp = pycvc.summary.WQComparison(sl, 'composite', poc, nsqdata, bmpdb)\n",
    "        \n",
    "        wqcomp.seasonalBoxplots(load=False, finalOutput=True)\n",
    "        wqcomp.seasonalBoxplots(load=True, finalOutput=True)\n",
    "        \n",
    "        wqcomp.landuseBoxplots(finalOutput=True)\n",
    "        wqcomp.bmpCategoryBoxplots(finalOutput=True)\n",
    "        \n",
    "        wqcomp.parameterStatPlot(finalOutput=True)\n",
    "        wqcomp.parameterStatPlot(load=True, finalOutput=True)\n",
    "        \n",
    "        wqcomp.parameterTimeSeries(finalOutput=True)  \n",
    "        wqcomp.parameterTimeSeries(load=True, finalOutput=True)  \n",
    "\n",
    "        plt.close('all')"
   ]
  },
  {
   "cell_type": "markdown",
   "metadata": {},
   "source": [
    "### Megafigures"
   ]
  },
  {
   "cell_type": "code",
   "execution_count": null,
   "metadata": {
    "collapsed": false
   },
   "outputs": [],
   "source": [
    "for sl in site_lists:\n",
    "    print('\\n----Megafigs with {}----'.format(', '.join([s.siteid for s in sl])))\n",
    "    \n",
    "    # construct the megafigures\n",
    "    mf1 = pycvc.summary.WQMegaFigure(sl, 'composite', POCs[:6], 1, nsqdata, bmpdb)\n",
    "    mf2 = pycvc.summary.WQMegaFigure(sl, 'composite', POCs[6:], 2, nsqdata, bmpdb)\n",
    "    for n, mf in enumerate([mf1, mf2]):\n",
    "        print('\\tTime Series {0}'.format(n+1))\n",
    "        mf.timeseriesFigure(load=False)\n",
    "        mf.timeseriesFigure(load=True)\n",
    "\n",
    "        print('\\tStat plots {0}'.format(n+1))\n",
    "        mf.statplotFigure(load=False)\n",
    "        mf.statplotFigure(load=True)\n",
    "\n",
    "        print('\\tBMPDB Boxplots {0}'.format(n+1))\n",
    "        mf.bmpCategoryBoxplotFigure()\n",
    "\n",
    "        print('\\tNSQD Boxplots {0}'.format(n+1))\n",
    "        mf.landuseBoxplotFigure()\n",
    "\n",
    "        print('\\tSeasonal Boxplots {0}'.format(n+1))\n",
    "        mf.seasonalBoxplotFigure(load=False)\n",
    "        mf.seasonalBoxplotFigure(load=True)\n",
    "     \n",
    "    plt.close('all')"
   ]
  },
  {
   "cell_type": "markdown",
   "metadata": {},
   "source": [
    "### Unsampled loading estimates\n",
    "*Warning*: Site objects (e.g., `ED1`) have hidden `_unsampled_loading_estimates` methods that return load estimates of unsampled storms using the estimated median influent concentrations and median effluent concentrations. However, it is highly recommended that you aggregate the data and don't draw conclusions about individual storms.\n",
    "\n",
    "The cell below aggregates the data for each parameter, season, and whether the storms produced outflow. The results (sums) are then saved to an Excel file, one tab for each site."
   ]
  },
  {
   "cell_type": "code",
   "execution_count": null,
   "metadata": {
    "collapsed": false
   },
   "outputs": [],
   "source": [
    "cols = [\n",
    "    'duration_hours', 'total_precip_depth_mm', \n",
    "    'runoff_m3', 'bypass_m3', 'inflow_m3', 'outflow_m3', \n",
    "    'load_runoff', 'load_bypass', 'load_inflow', 'load_outflow',\n",
    "]\n",
    "\n",
    "with pandas.ExcelWriter(\"output/xlsx/CVCHydro_UnsampledLoadEstimates.xlsx\") as unsampled_file:\n",
    "    for site in [ED1, LV1, LV2, LV4]:\n",
    "        loads = (\n",
    "            site._unsampled_load_estimates()\n",
    "                .groupby(['season', 'has_outflow', 'parameter', 'load_units'])\n",
    "                .sum()\n",
    "                .select(lambda c: c in cols, axis=1)\n",
    "                .reset_index()\n",
    "            )\n",
    "        loads.to_excel(unsampled_file, sheet_name=site.siteid)"
   ]
  }
 ],
 "metadata": {
  "kernelspec": {
   "display_name": "Python 3",
   "language": "python",
   "name": "python3"
  },
  "language_info": {
   "codemirror_mode": {
    "name": "ipython",
    "version": 3
   },
   "file_extension": ".py",
   "mimetype": "text/x-python",
   "name": "python",
   "nbconvert_exporter": "python",
   "pygments_lexer": "ipython3",
   "version": "3.4.3"
  }
 },
 "nbformat": 4,
 "nbformat_minor": 0
}
