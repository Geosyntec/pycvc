{
 "cells": [
  {
   "cell_type": "markdown",
   "metadata": {},
   "source": [
    "# Prepare Tidy CVC Datasets (with SWMM model hydrology)\n",
    "\n",
    "## Setup the basic working environment"
   ]
  },
  {
   "cell_type": "code",
   "execution_count": null,
   "metadata": {
    "collapsed": false
   },
   "outputs": [],
   "source": [
    "%matplotlib inline\n",
    "\n",
    "import os\n",
    "import sys\n",
    "import datetime\n",
    "import warnings\n",
    "import csv\n",
    "\n",
    "import numpy as np\n",
    "import matplotlib.pyplot as plt\n",
    "import pandas\n",
    "import seaborn\n",
    "seaborn.set(style='ticks', context='paper')\n",
    "\n",
    "import wqio\n",
    "import pybmpdb\n",
    "import pynsqd\n",
    "\n",
    "import pycvc\n",
    "\n",
    "min_precip = 1.9999\n",
    "big_storm_date = datetime.date(2013, 7, 8)\n",
    "\n",
    "palette = seaborn.color_palette('deep', n_colors=6)\n",
    "pybmpdb.setMPLStyle()\n",
    "POCs = [\n",
    "    p['cvcname'] \n",
    "    for p in filter(\n",
    "        lambda p: p['include'],\n",
    "        pycvc.info.POC_dicts\n",
    "    )\n",
    "]\n",
    "\n",
    "if wqio.testing.checkdep_tex() is None:\n",
    "    tex_msg = (\"LaTeX not found on system path. You will \"\n",
    "               \"not be able to compile ISRs to PDF files\")\n",
    "    warnings.warn(tex_msg, UserWarning)\n",
    "    \n",
    "warning_filter = \"ignore\" \n",
    "warnings.simplefilter(warning_filter)"
   ]
  },
  {
   "cell_type": "markdown",
   "metadata": {},
   "source": [
    "## Load External Data (this takes a while)"
   ]
  },
  {
   "cell_type": "code",
   "execution_count": null,
   "metadata": {
    "collapsed": false,
    "scrolled": false
   },
   "outputs": [],
   "source": [
    "bmpdb = pycvc.external.bmpdb(palette[3], 'D')\n",
    "nsqdata = pycvc.external.nsqd(palette[2], 'd')"
   ]
  },
  {
   "cell_type": "markdown",
   "metadata": {},
   "source": [
    "## Load CVC Database"
   ]
  },
  {
   "cell_type": "code",
   "execution_count": null,
   "metadata": {
    "collapsed": false
   },
   "outputs": [],
   "source": [
    "cvcdbfile = \"C:/users/phobson/Desktop/scratch/cvc/cvc.accdb\"\n",
    "cvcdb = pycvc.Database(cvcdbfile, nsqdata, bmpdb)"
   ]
  },
  {
   "cell_type": "markdown",
   "metadata": {},
   "source": [
    "## Hydrologic Relationships"
   ]
  },
  {
   "cell_type": "markdown",
   "metadata": {},
   "source": [
    "$V_{\\mathrm{runoff, \\ LV1}} = \\max\\left(0,\\: -12.05 + 2.873\\, D_{\\mathrm{precip}} + 0.863 \\, \\Delta t \\right)$"
   ]
  },
  {
   "cell_type": "code",
   "execution_count": null,
   "metadata": {
    "collapsed": true
   },
   "outputs": [],
   "source": [
    "def LV1_runoff(row):\n",
    "    return max(0, -12.0 + 2.87 * row['total_precip_depth'] + 0.863 * row['duration_hours'])"
   ]
  },
  {
   "cell_type": "markdown",
   "metadata": {},
   "source": [
    "### ED-1\n",
    "$\\log \\left(V_{\\mathrm{runoff, \\ ED1}}\\right) = 1.58 + 0.000667 \\, I_{\\mathrm{max}} + 0.0169 \\, D_{\\mathrm{precip}} $\n",
    "\n",
    "$V_{\\mathrm{bypass, \\ ED1}} = \\max \\left(0,\\: -26.4 + 0.184 \\, I_{\\mathrm{max}} + 1.22 \\, D_{\\mathrm{precip}} \\right)$\n",
    "\n",
    "$V_{\\mathrm{inflow, \\ ED1}} = \\max \\left(0,\\: V_{\\mathrm{runoff, \\ ED1}} - V_{\\mathrm{bypass, \\ ED1}} \\right)$"
   ]
  },
  {
   "cell_type": "code",
   "execution_count": null,
   "metadata": {
    "collapsed": false
   },
   "outputs": [],
   "source": [
    "def ED1_runoff(row):\n",
    "    return 10**(1.58 + 0.000667 * row['peak_precip_intensity'] + 0.0169 * row['total_precip_depth'] )\n",
    "\n",
    "def ED1_bypass(row):\n",
    "    return max(0, -26.4 + 0.184 * row['peak_precip_intensity'] + 1.22 * row['total_precip_depth'])\n",
    "\n",
    "def ED1_inflow(row):\n",
    "    return max(0, ED1_runoff(row) - ED1_bypass(row))"
   ]
  },
  {
   "cell_type": "markdown",
   "metadata": {},
   "source": [
    "### LV-2\n",
    "$\\log \\left(V_{\\mathrm{runoff, \\ LV2}}\\right) = 1.217 + 0.00622 \\, I_{\\mathrm{max}} + 0.0244 \\, D_{\\mathrm{precip}} $\n",
    "\n",
    "$V_{\\mathrm{bypass, \\ LV2}} = 0$\n",
    "\n",
    "$V_{\\mathrm{inflow, \\ LV2}} = \\max \\left(0,\\: V_{\\mathrm{runoff, \\ LV2}} - V_{\\mathrm{bypass, \\ LV2}} \\right)$"
   ]
  },
  {
   "cell_type": "code",
   "execution_count": null,
   "metadata": {
    "collapsed": false
   },
   "outputs": [],
   "source": [
    "def LV2_runoff(row):\n",
    "    return 10**(1.22 + 0.00622 * row['peak_precip_intensity'] + 0.0244 * row['total_precip_depth'] )\n",
    "\n",
    "def LV2_bypass(row):\n",
    "    return 0\n",
    "\n",
    "def LV2_inflow(row):\n",
    "    return max(0, LV2_runoff(row) - LV2_bypass(row))"
   ]
  },
  {
   "cell_type": "markdown",
   "metadata": {},
   "source": [
    "### LV-4\n",
    "$\\log \\left(V_{\\mathrm{runoff, \\ LV4}}\\right) = 1.35  + 0.00650 \\, I_{\\mathrm{max}} + 0.00940 \\, D_{\\mathrm{precip}} $\n",
    "\n",
    "$V_{\\mathrm{bypass, \\ LV4}} = \\max \\left(0,\\: 7.37 + 0.0370 \\, I_{\\mathrm{max}} + 0.112 \\, D_{\\mathrm{precip}} \\right)$\n",
    "\n",
    "$V_{\\mathrm{inflow, \\ LV4}} = \\max \\left(0,\\: V_{\\mathrm{runoff, \\ LV4}} - V_{\\mathrm{bypass, \\ LV4}} \\right)$"
   ]
  },
  {
   "cell_type": "code",
   "execution_count": null,
   "metadata": {
    "collapsed": true
   },
   "outputs": [],
   "source": [
    "def LV4_runoff(row):\n",
    "    return 10**(1.35 + 0.00650 * row['peak_precip_intensity'] + 0.00940 * row['total_precip_depth'] )\n",
    "\n",
    "def LV4_bypass(row):\n",
    "    return max(0, 7.36 + 0.0370 * row['peak_precip_intensity'] + 0.112 * row['total_precip_depth'])\n",
    "\n",
    "def LV4_inflow(row):\n",
    "    return max(0, LV4_runoff(row) - LV4_bypass(row))"
   ]
  },
  {
   "cell_type": "markdown",
   "metadata": {},
   "source": [
    "## Water quality loading relationship\n",
    "\n",
    "$ M_{\\mathrm{runoff}} = V_{\\mathrm{runoff}} \\times \\hat{\\mathbb{C}}_{\\mathrm{inflow}}\\left(\\mathrm{landuse,\\ season}\\right) $\n",
    "\n",
    "$ M_{\\mathrm{bypass}} = V_{\\mathrm{bypass}} \\times \\hat{\\mathbb{C}}_{\\mathrm{inflow}}\\left(\\mathrm{landuse,\\ season}\\right) $\n",
    "\n",
    "$ M_{\\mathrm{inflow}} = M_{\\mathrm{runoff}} - M_{\\mathrm{bypass}} $\n",
    "\n",
    "$ M_{\\mathrm{outflow}} = V_{\\mathrm{outflow}} \\times \\mathbb{C}_{\\mathrm{outflow}} $"
   ]
  },
  {
   "cell_type": "markdown",
   "metadata": {},
   "source": [
    "### Define the site object for the reference site and compute its median values (\"influent\" to other sites)"
   ]
  },
  {
   "cell_type": "code",
   "execution_count": null,
   "metadata": {
    "collapsed": false
   },
   "outputs": [],
   "source": [
    "LV1 = pycvc.Site(db=cvcdb, siteid='LV-1', raingauge='LV-1', tocentry='Lakeview Control', \n",
    "                 isreference=True,  minprecip=min_precip, color=palette[1], marker='s')\n",
    "\n",
    "LV1.runoff_fxn = LV1_runoff"
   ]
  },
  {
   "cell_type": "markdown",
   "metadata": {},
   "source": [
    "### Lakeview BMP sites get their \"influent\" data from LV-1"
   ]
  },
  {
   "cell_type": "code",
   "execution_count": null,
   "metadata": {
    "collapsed": false
   },
   "outputs": [],
   "source": [
    "def rename_influent_cols(col):\n",
    "    if col.lower() in ['parameter', 'units', 'season']:\n",
    "        newcol = col.lower()\n",
    "    else:\n",
    "        newcol = 'influent {}'.format(col.lower())\n",
    "        \n",
    "    return newcol.replace(' nsqd ', ' ').replace(' effluent ', ' ')\n",
    "\n",
    "LV_Influent = (\n",
    "    LV1.medians(\"concentration\", groupby_col='season')\n",
    "       .rename(columns={'effluent stat': 'median'})\n",
    "       .rename(columns=rename_influent_cols)\n",
    ")\n",
    "\n",
    "LV1.influentmedians = LV_Influent\n",
    "LV_Influent.head()"
   ]
  },
  {
   "cell_type": "markdown",
   "metadata": {},
   "source": [
    "### Elm Drive's \"influent\" data come from NSQD"
   ]
  },
  {
   "cell_type": "code",
   "execution_count": null,
   "metadata": {
    "collapsed": false
   },
   "outputs": [],
   "source": [
    "ED_Influent = (\n",
    "    cvcdb.nsqdata\n",
    "         .seasonal_medians\n",
    "         .rename(columns=rename_influent_cols)\n",
    ")\n",
    "ED_Influent.head()"
   ]
  },
  {
   "cell_type": "markdown",
   "metadata": {},
   "source": [
    "### Remaining site objects"
   ]
  },
  {
   "cell_type": "code",
   "execution_count": null,
   "metadata": {
    "collapsed": false
   },
   "outputs": [],
   "source": [
    "ED1 = pycvc.Site(db=cvcdb, siteid='ED-1', raingauge='ED-1',\n",
    "                 tocentry='Elm Drive', influentmedians=ED_Influent, \n",
    "                 minprecip=min_precip, isreference=False,\n",
    "                 color=palette[0], marker='o')\n",
    "ED1.runoff_fxn = ED1_runoff\n",
    "ED1.inflow_fxn = ED1_inflow\n",
    "\n",
    "\n",
    "LV2 = pycvc.Site(db=cvcdb, siteid='LV-2', raingauge='LV-1',\n",
    "                 tocentry='Lakeview Grass Swale', influentmedians=LV_Influent, \n",
    "                 minprecip=min_precip, isreference=False,\n",
    "                 color=palette[4], marker='^')\n",
    "LV2.runoff_fxn = LV2_runoff\n",
    "LV2.inflow_fxn = LV2_inflow\n",
    "\n",
    "LV4 = pycvc.Site(db=cvcdb, siteid='LV-4', raingauge='LV-1',\n",
    "                 tocentry=r'Lakeview Bioswale 1$^{\\mathrm{st}}$ South Side', \n",
    "                 influentmedians=LV_Influent, \n",
    "                 minprecip=min_precip, isreference=False,\n",
    "                 color=palette[5], marker='v')\n",
    "LV4.runoff_fxn = LV4_runoff\n",
    "LV4.inflow_fxn = LV4_inflow"
   ]
  },
  {
   "cell_type": "markdown",
   "metadata": {},
   "source": [
    "### Fix ED-1 storm that had two composite samples"
   ]
  },
  {
   "cell_type": "code",
   "execution_count": null,
   "metadata": {
    "collapsed": false
   },
   "outputs": [],
   "source": [
    "ED1.hydrodata.data.loc['2012-08-10 23:50:00':'2012-08-11 05:20', 'storm'] = 0\n",
    "ED1.hydrodata.data.loc['2012-08-11 05:30':, 'storm'] += 1"
   ]
  },
  {
   "cell_type": "markdown",
   "metadata": {},
   "source": [
    "### Replace total inflow volume with estimate from simple method for 2013-07-08 storm"
   ]
  },
  {
   "cell_type": "code",
   "execution_count": null,
   "metadata": {
    "collapsed": false
   },
   "outputs": [],
   "source": [
    "storm_date = datetime.date(2013, 7, 8)\n",
    "for site in [ED1, LV1, LV2, LV4]:\n",
    "    bigstorm = site.storm_info.loc[site.storm_info.start_date.dt.date == storm_date].index[0]\n",
    "    inflow = site.drainagearea.simple_method(site.storm_info.loc[bigstorm, 'total_precip_depth'])\n",
    "    site.storm_info.loc[bigstorm, 'inflow_m3'] = inflow\n",
    "    site.storm_info.loc[bigstorm, 'runoff_m3'] = np.nan\n",
    "    site.storm_info.loc[bigstorm, 'bypass_m3'] = np.nan"
   ]
  },
  {
   "cell_type": "markdown",
   "metadata": {},
   "source": [
    "## Export project-wide tidy datasets\n",
    "\n",
    "### Hydrologic (storm) data\n",
    "The big event from July 8, 2013 is *retained* in this step"
   ]
  },
  {
   "cell_type": "code",
   "execution_count": null,
   "metadata": {
    "collapsed": true
   },
   "outputs": [],
   "source": [
    "hydro = pycvc.summary.collect_tidy_data(\n",
    "    [ED1, LV1, LV2, LV4], \n",
    "    lambda s: s.tidy_hydro\n",
    ").pipe(pycvc.summary.classify_storms, 'total_precip_depth')\n",
    "hydro.to_csv('output/tidy/hydro_swmm.csv', index=False)"
   ]
  },
  {
   "cell_type": "markdown",
   "metadata": {},
   "source": [
    "### Water quality data\n",
    "The loads from the big event on July 8, 2013 are *removed* in this step"
   ]
  },
  {
   "cell_type": "code",
   "execution_count": null,
   "metadata": {
    "collapsed": false
   },
   "outputs": [],
   "source": [
    "wq = (\n",
    "    pycvc.summary\n",
    "        .collect_tidy_data([ED1, LV1, LV2, LV4], lambda s: s.tidy_wq)\n",
    "        .pipe(pycvc.summary.classify_storms, 'total_precip_depth')\n",
    "        .pipe(pycvc.summary.remove_load_data_from_storms, [big_storm_date], 'start_date')\n",
    ")\n",
    "wq.to_csv('output/tidy/wq_swmm.csv', index=False)   "
   ]
  },
  {
   "cell_type": "markdown",
   "metadata": {},
   "source": [
    "## Individual Storm Reports\n",
    "(requires $\\LaTeX$)"
   ]
  },
  {
   "cell_type": "code",
   "execution_count": null,
   "metadata": {
    "collapsed": true
   },
   "outputs": [],
   "source": [
    "for site in [ED1, LV1, LV2, LV4]:\n",
    "    print('\\n----Compiling ISR for {0}----'.format(site.siteid))\n",
    "    site.allISRs('composite', version='draft')"
   ]
  }
 ],
 "metadata": {
  "kernelspec": {
   "display_name": "Python 3",
   "language": "python",
   "name": "python3"
  },
  "language_info": {
   "codemirror_mode": {
    "name": "ipython",
    "version": 3
   },
   "file_extension": ".py",
   "mimetype": "text/x-python",
   "name": "python",
   "nbconvert_exporter": "python",
   "pygments_lexer": "ipython3",
   "version": "3.4.4"
  }
 },
 "nbformat": 4,
 "nbformat_minor": 0
}
