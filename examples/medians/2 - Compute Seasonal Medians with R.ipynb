{
 "cells": [
  {
   "cell_type": "markdown",
   "metadata": {},
   "source": [
    "## Compute Seasonal TSS Medians without fancy ROS or bootstrapping\n",
    "### Load the data"
   ]
  },
  {
   "cell_type": "code",
   "execution_count": 1,
   "metadata": {
    "collapsed": false
   },
   "outputs": [
    {
     "name": "stderr",
     "output_type": "stream",
     "text": [
      "\n",
      "Attaching package: 'dplyr'\n",
      "\n",
      "The following objects are masked from 'package:stats':\n",
      "\n",
      "    filter, lag\n",
      "\n",
      "The following objects are masked from 'package:base':\n",
      "\n",
      "    intersect, setdiff, setequal, union\n",
      "\n"
     ]
    }
   ],
   "source": [
    "library(\"dplyr\")\n",
    "library(\"readr\")"
   ]
  },
  {
   "cell_type": "markdown",
   "metadata": {},
   "source": [
    "### Compute the medians for each season"
   ]
  },
  {
   "cell_type": "code",
   "execution_count": 2,
   "metadata": {
    "collapsed": false,
    "scrolled": false
   },
   "outputs": [
    {
     "data": {
      "text/html": [
       "<table>\n",
       "<thead><tr><th></th><th scope=col>parameter</th><th scope=col>units</th><th scope=col>season</th><th scope=col>median(res)</th></tr></thead>\n",
       "<tbody>\n",
       "\t<tr><th scope=row>1</th><td>Total Suspended Solids</td><td>mg/L</td><td>autumn</td><td>55</td></tr>\n",
       "\t<tr><th scope=row>2</th><td>Total Suspended Solids</td><td>mg/L</td><td>spring</td><td>100</td></tr>\n",
       "\t<tr><th scope=row>3</th><td>Total Suspended Solids</td><td>mg/L</td><td>summer</td><td>93</td></tr>\n",
       "\t<tr><th scope=row>4</th><td>Total Suspended Solids</td><td>mg/L</td><td>winter</td><td>92</td></tr>\n",
       "</tbody>\n",
       "</table>\n"
      ],
      "text/latex": [
       "\\begin{tabular}{r|llll}\n",
       "  & parameter & units & season & median(res)\\\\\n",
       "\\hline\n",
       "\t1 & Total Suspended Solids & mg/L & autumn & 55\\\\\n",
       "\t2 & Total Suspended Solids & mg/L & spring & 100\\\\\n",
       "\t3 & Total Suspended Solids & mg/L & summer & 93\\\\\n",
       "\t4 & Total Suspended Solids & mg/L & winter & 92\\\\\n",
       "\\end{tabular}\n"
      ],
      "text/plain": [
       "Source: local data frame [4 x 4]\n",
       "Groups: parameter, units [?]\n",
       "\n",
       "               parameter units season median(res)\n",
       "                   (chr) (chr)  (chr)       (dbl)\n",
       "1 Total Suspended Solids  mg/L autumn          55\n",
       "2 Total Suspended Solids  mg/L spring         100\n",
       "3 Total Suspended Solids  mg/L summer          93\n",
       "4 Total Suspended Solids  mg/L winter          92"
      ]
     },
     "execution_count": 2,
     "metadata": {},
     "output_type": "execute_result"
    }
   ],
   "source": [
    "medians <- readr::read_csv(\"NSQD_Res_TSS.csv\") %>% \n",
    "    dplyr::group_by(parameter, units, season) %>% \n",
    "    summarize(median(res))\n",
    "\n",
    "medians"
   ]
  }
 ],
 "metadata": {
  "kernelspec": {
   "display_name": "R",
   "language": "R",
   "name": "ir"
  },
  "language_info": {
   "codemirror_mode": "r",
   "file_extension": ".r",
   "mimetype": "text/x-r-source",
   "name": "R",
   "pygments_lexer": "r",
   "version": "3.1.3"
  }
 },
 "nbformat": 4,
 "nbformat_minor": 0
}
