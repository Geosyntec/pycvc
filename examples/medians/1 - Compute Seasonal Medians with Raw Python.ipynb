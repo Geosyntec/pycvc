{
 "cells": [
  {
   "cell_type": "markdown",
   "metadata": {},
   "source": [
    "## Compute Seasonal TSS Medians without fancy ROS or bootstrapping\n",
    "### Load the data"
   ]
  },
  {
   "cell_type": "code",
   "execution_count": 1,
   "metadata": {
    "collapsed": false
   },
   "outputs": [],
   "source": [
    "import pandas\n",
    "\n",
    "tss = pandas.read_csv(\"NSQD_Res_TSS.csv\")"
   ]
  },
  {
   "cell_type": "markdown",
   "metadata": {},
   "source": [
    "### Compute the medians for each season *without* dropping duplicates"
   ]
  },
  {
   "cell_type": "code",
   "execution_count": 2,
   "metadata": {
    "collapsed": false
   },
   "outputs": [
    {
     "data": {
      "text/html": [
       "<div>\n",
       "<table border=\"1\" class=\"dataframe\">\n",
       "  <thead>\n",
       "    <tr style=\"text-align: right;\">\n",
       "      <th></th>\n",
       "      <th>parameter</th>\n",
       "      <th>units</th>\n",
       "      <th>season</th>\n",
       "      <th>res</th>\n",
       "    </tr>\n",
       "  </thead>\n",
       "  <tbody>\n",
       "    <tr>\n",
       "      <th>0</th>\n",
       "      <td>Total Suspended Solids</td>\n",
       "      <td>mg/L</td>\n",
       "      <td>autumn</td>\n",
       "      <td>55</td>\n",
       "    </tr>\n",
       "    <tr>\n",
       "      <th>1</th>\n",
       "      <td>Total Suspended Solids</td>\n",
       "      <td>mg/L</td>\n",
       "      <td>spring</td>\n",
       "      <td>100</td>\n",
       "    </tr>\n",
       "    <tr>\n",
       "      <th>2</th>\n",
       "      <td>Total Suspended Solids</td>\n",
       "      <td>mg/L</td>\n",
       "      <td>summer</td>\n",
       "      <td>93</td>\n",
       "    </tr>\n",
       "    <tr>\n",
       "      <th>3</th>\n",
       "      <td>Total Suspended Solids</td>\n",
       "      <td>mg/L</td>\n",
       "      <td>winter</td>\n",
       "      <td>92</td>\n",
       "    </tr>\n",
       "  </tbody>\n",
       "</table>\n",
       "</div>"
      ],
      "text/plain": [
       "                parameter units  season  res\n",
       "0  Total Suspended Solids  mg/L  autumn   55\n",
       "1  Total Suspended Solids  mg/L  spring  100\n",
       "2  Total Suspended Solids  mg/L  summer   93\n",
       "3  Total Suspended Solids  mg/L  winter   92"
      ]
     },
     "execution_count": 2,
     "metadata": {},
     "output_type": "execute_result"
    }
   ],
   "source": [
    "medians = (\n",
    "    tss.groupby(by=['parameter', 'units', 'season'])\n",
    "        .median()['res']\n",
    "        .reset_index()\n",
    ")\n",
    "\n",
    "medians"
   ]
  },
  {
   "cell_type": "markdown",
   "metadata": {},
   "source": [
    "### Compute the medians for each season *after* dropping duplicate records"
   ]
  },
  {
   "cell_type": "code",
   "execution_count": 3,
   "metadata": {
    "collapsed": false
   },
   "outputs": [
    {
     "data": {
      "text/html": [
       "<div>\n",
       "<table border=\"1\" class=\"dataframe\">\n",
       "  <thead>\n",
       "    <tr style=\"text-align: right;\">\n",
       "      <th></th>\n",
       "      <th>parameter</th>\n",
       "      <th>units</th>\n",
       "      <th>season</th>\n",
       "      <th>res</th>\n",
       "    </tr>\n",
       "  </thead>\n",
       "  <tbody>\n",
       "    <tr>\n",
       "      <th>0</th>\n",
       "      <td>Total Suspended Solids</td>\n",
       "      <td>mg/L</td>\n",
       "      <td>autumn</td>\n",
       "      <td>53.0</td>\n",
       "    </tr>\n",
       "    <tr>\n",
       "      <th>1</th>\n",
       "      <td>Total Suspended Solids</td>\n",
       "      <td>mg/L</td>\n",
       "      <td>spring</td>\n",
       "      <td>100.0</td>\n",
       "    </tr>\n",
       "    <tr>\n",
       "      <th>2</th>\n",
       "      <td>Total Suspended Solids</td>\n",
       "      <td>mg/L</td>\n",
       "      <td>summer</td>\n",
       "      <td>94.2</td>\n",
       "    </tr>\n",
       "    <tr>\n",
       "      <th>3</th>\n",
       "      <td>Total Suspended Solids</td>\n",
       "      <td>mg/L</td>\n",
       "      <td>winter</td>\n",
       "      <td>92.0</td>\n",
       "    </tr>\n",
       "  </tbody>\n",
       "</table>\n",
       "</div>"
      ],
      "text/plain": [
       "                parameter units  season    res\n",
       "0  Total Suspended Solids  mg/L  autumn   53.0\n",
       "1  Total Suspended Solids  mg/L  spring  100.0\n",
       "2  Total Suspended Solids  mg/L  summer   94.2\n",
       "3  Total Suspended Solids  mg/L  winter   92.0"
      ]
     },
     "execution_count": 3,
     "metadata": {},
     "output_type": "execute_result"
    }
   ],
   "source": [
    "index_cols = [\n",
    "    'epa_rain_zone', 'location_code', 'station_name', 'primary_landuse',\n",
    "    'start_date', 'season', 'station', 'parameter', 'units',\n",
    "]\n",
    "\n",
    "medians = (\n",
    "    tss.groupby(by=index_cols)\n",
    "        .first()\n",
    "        .reset_index()\n",
    "        .groupby(by=['parameter', 'units', 'season'])\n",
    "        .median()['res']\n",
    "        .reset_index()\n",
    ")\n",
    "\n",
    "medians\n"
   ]
  }
 ],
 "metadata": {
  "kernelspec": {
   "display_name": "Python 3",
   "language": "python",
   "name": "python3"
  },
  "language_info": {
   "codemirror_mode": {
    "name": "ipython",
    "version": 3
   },
   "file_extension": ".py",
   "mimetype": "text/x-python",
   "name": "python",
   "nbconvert_exporter": "python",
   "pygments_lexer": "ipython3",
   "version": "3.4.4"
  }
 },
 "nbformat": 4,
 "nbformat_minor": 0
}
