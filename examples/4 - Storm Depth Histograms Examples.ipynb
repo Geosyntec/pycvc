{
 "cells": [
  {
   "cell_type": "markdown",
   "metadata": {},
   "source": [
    "# Storm Depth Histograms\n",
    "\n",
    "## Setup the basic working environment"
   ]
  },
  {
   "cell_type": "code",
   "execution_count": null,
   "metadata": {
    "collapsed": false
   },
   "outputs": [],
   "source": [
    "import warnings\n",
    "\n",
    "import matplotlib.pyplot as plt\n",
    "import pandas\n",
    "import seaborn\n",
    "\n",
    "import pycvc\n",
    "\n",
    "warnings.simplefilter(\"ignore\")\n",
    "\n",
    "palette = seaborn.color_palette('deep', n_colors=6)\n",
    "seaborn.set(style='ticks', context='paper', rc={'text.usetex': False})\n",
    "%matplotlib inline"
   ]
  },
  {
   "cell_type": "markdown",
   "metadata": {},
   "source": [
    "## Load Tidy Hydrologic Data"
   ]
  },
  {
   "cell_type": "code",
   "execution_count": null,
   "metadata": {
    "collapsed": false
   },
   "outputs": [],
   "source": [
    "hydro = pandas.read_csv('output/tidy/hydro_simple.csv')"
   ]
  },
  {
   "cell_type": "markdown",
   "metadata": {},
   "source": [
    "###  Split by site name (color) and presence of outflow (row)"
   ]
  },
  {
   "cell_type": "code",
   "execution_count": null,
   "metadata": {
    "collapsed": false
   },
   "outputs": [],
   "source": [
    "fg = pycvc.viz.hydro_histogram(hydro, hue='site', row='has_outflow', save=False)\n",
    "pycvc.viz.savefig(fg.fig, 'Hist_Site_Outflow', extra='HydroHistogram')"
   ]
  },
  {
   "cell_type": "markdown",
   "metadata": {},
   "source": [
    "### Split by site (row), presence of outflow (column), and season (hue)\n",
    "Also use a blue-green to brown color palette."
   ]
  },
  {
   "cell_type": "code",
   "execution_count": null,
   "metadata": {
    "collapsed": false,
    "scrolled": true
   },
   "outputs": [],
   "source": [
    "fg = pycvc.viz.hydro_histogram(hydro, row='site', col='has_outflow', hue='season',\n",
    "                          hue_order=['winter', 'spring', 'summer', 'autumn'],\n",
    "                          margin_titles=True, palette='BrBG_r', save=False)\n",
    "pycvc.viz.savefig(fg.fig, 'Hist_Site_Outflow_Season', extra='HydroHistogram')"
   ]
  },
  {
   "cell_type": "markdown",
   "metadata": {},
   "source": [
    "### Split by years (hue) and outflow (columns, wrapped at 2 wide)"
   ]
  },
  {
   "cell_type": "code",
   "execution_count": null,
   "metadata": {
    "collapsed": false
   },
   "outputs": [],
   "source": [
    "fg = pycvc.viz.hydro_histogram(hydro, col='site', hue='year', col_wrap=2, save=False)\n",
    "pycvc.viz.savefig(fg.fig, 'Hist_Site_Year', extra='HydroHistogram')"
   ]
  },
  {
   "cell_type": "markdown",
   "metadata": {},
   "source": [
    "###  Just look at ED-1"
   ]
  },
  {
   "cell_type": "code",
   "execution_count": null,
   "metadata": {
    "collapsed": false
   },
   "outputs": [],
   "source": [
    "fg = pycvc.viz.hydro_histogram(hydro.query(\"site == 'ED-1'\"), palette='Blues', save=False)\n",
    "pycvc.viz.savefig(fg.fig, 'Hist_ED1only', extra='HydroHistogram')"
   ]
  }
 ],
 "metadata": {
  "kernelspec": {
   "display_name": "Python 3",
   "language": "python",
   "name": "python3"
  },
  "language_info": {
   "codemirror_mode": {
    "name": "ipython",
    "version": 3
   },
   "file_extension": ".py",
   "mimetype": "text/x-python",
   "name": "python",
   "nbconvert_exporter": "python",
   "pygments_lexer": "ipython3",
   "version": "3.5.1"
  }
 },
 "nbformat": 4,
 "nbformat_minor": 0
}
