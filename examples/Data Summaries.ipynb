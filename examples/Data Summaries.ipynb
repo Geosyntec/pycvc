{
 "cells": [
  {
   "cell_type": "markdown",
   "metadata": {},
   "source": [
    "# CVC Data Summaries\n",
    "\n",
    "## Setup the basic working environment"
   ]
  },
  {
   "cell_type": "code",
   "execution_count": null,
   "metadata": {
    "collapsed": false
   },
   "outputs": [],
   "source": [
    "%matplotlib inline\n",
    "\n",
    "import os\n",
    "import sys\n",
    "import datetime\n",
    "import imp\n",
    "\n",
    "import numpy as np\n",
    "import matplotlib.pyplot as plt\n",
    "import pandas\n",
    "import seaborn\n",
    "seaborn.set(style='ticks', context='paper')\n",
    "\n",
    "import wqio\n",
    "import pybmp\n",
    "import pynsqd\n",
    "\n",
    "import pycvc\n",
    "\n",
    "min_precip = 1.9999\n",
    "palette = seaborn.color_palette('deep', n_colors=6)\n",
    "pybmp.setMPLStyle()\n",
    "POCs = [p['cvcname'] for p in filter(lambda p: p['include'], pycvc.info.POC_dicts)]\n",
    "\n",
    "# imp.reload(cvc)\n",
    "# imp.reload(cvc.dataAccess)\n",
    "# imp.reload(cvc.external)\n",
    "# imp.reload(cvc.summary)\n",
    "# imp.reload(cvc.viz)\n",
    "# imp.reload(cvc.info)\n",
    "# imp.reload(cvc)\n"
   ]
  },
  {
   "cell_type": "markdown",
   "metadata": {},
   "source": [
    "## Hydrologic Relationships"
   ]
  },
  {
   "cell_type": "markdown",
   "metadata": {},
   "source": [
    "$V_{\\mathrm{runoff, \\ LV1}} = \\max\\left(0,\\: -12.05 + 2.873\\, D_{\\mathrm{precip}} + 0.863 \\, \\Delta t \\right)$"
   ]
  },
  {
   "cell_type": "code",
   "execution_count": null,
   "metadata": {
    "collapsed": true
   },
   "outputs": [],
   "source": [
    "def LV1_runoff(row):\n",
    "    return max(0, -12.0 + 2.87 * row['total_precip_depth'] + 0.863 * row['duration_hours'])"
   ]
  },
  {
   "cell_type": "markdown",
   "metadata": {},
   "source": [
    "### ED-1\n",
    "$\\log \\left(V_{\\mathrm{runoff, \\ ED1}}\\right) = 1.58 + 0.01 \\, I_{\\mathrm{max}} + 0.0163 \\, D_{\\mathrm{precip}} $\n",
    "\n",
    "$V_{\\mathrm{bypass, \\ ED1}} = \\max \\left(0,\\: -53.08 + 8.30 \\, I_{\\mathrm{max}} + 1.22 \\, D_{\\mathrm{precip}} \\right)$\n",
    "\n",
    "$V_{\\mathrm{inflow, \\ ED1}} = \\max \\left(0,\\: V_{\\mathrm{runoff, \\ ED1}} - V_{\\mathrm{bypass, \\ ED1}} \\right)$"
   ]
  },
  {
   "cell_type": "code",
   "execution_count": null,
   "metadata": {
    "collapsed": false
   },
   "outputs": [],
   "source": [
    "def ED1_runoff(row):\n",
    "    return 10**(1.58 + 0.000667 * row['peak_precip_intensity'] + 0.0169 * row['total_precip_depth'] )\n",
    "\n",
    "def ED1_bypass(row):\n",
    "    return max(0, -26.4 + 0.184 * row['peak_precip_intensity'] + 1.22 * row['total_precip_depth'])\n",
    "\n",
    "def ED1_inflow(row):\n",
    "    return max(0, ED1_runoff(row) - ED1_bypass(row))"
   ]
  },
  {
   "cell_type": "markdown",
   "metadata": {},
   "source": [
    "### LV-2\n",
    "$\\log \\left(V_{\\mathrm{runoff, \\ LV2}}\\right) = 1.217 + 0.036 \\, I_{\\mathrm{max}} + 0.0247 \\, D_{\\mathrm{precip}} $\n",
    "\n",
    "$V_{\\mathrm{bypass, \\ LV2}} = 0$\n",
    "\n",
    "$V_{\\mathrm{inflow, \\ LV2}} = \\max \\left(0,\\: V_{\\mathrm{runoff, \\ LV2}} - V_{\\mathrm{bypass, \\ LV2}} \\right)$"
   ]
  },
  {
   "cell_type": "code",
   "execution_count": null,
   "metadata": {
    "collapsed": false
   },
   "outputs": [],
   "source": [
    "def LV2_runoff(row):\n",
    "    return 10**(1.22 + 0.00622 * row['peak_precip_intensity'] + 0.0244 * row['total_precip_depth'] )\n",
    "\n",
    "def LV2_bypass(row):\n",
    "    return 0 #max(0, 1.49 * row['total_precip_depth'] + 7.72 * row['peak_precip_intensity'] - 56.47)\n",
    "\n",
    "def LV2_inflow(row):\n",
    "    return max(0, LV2_runoff(row) - LV2_bypass(row))"
   ]
  },
  {
   "cell_type": "markdown",
   "metadata": {},
   "source": [
    "### LV-4\n",
    "$\\log \\left(V_{\\mathrm{runoff, \\ LV4}}\\right) = 1.35  + 0.039 \\, I_{\\mathrm{max}} + 0.0094 \\, D_{\\mathrm{precip}} $\n",
    "\n",
    "$V_{\\mathrm{bypass, \\ LV4}} = \\max \\left(0,\\: 7.37 + 0.223 \\, I_{\\mathrm{max}} + 0.112 \\, D_{\\mathrm{precip}} \\right)$\n",
    "\n",
    "$V_{\\mathrm{inflow, \\ LV4}} = \\max \\left(0,\\: V_{\\mathrm{runoff, \\ LV4}} - V_{\\mathrm{bypass, \\ LV4}} \\right)$"
   ]
  },
  {
   "cell_type": "code",
   "execution_count": null,
   "metadata": {
    "collapsed": true
   },
   "outputs": [],
   "source": [
    "def LV4_runoff(row):\n",
    "    return 10**(1.35 + 0.00650 * row['peak_precip_intensity'] + 0.00940 * row['total_precip_depth'] )\n",
    "\n",
    "def LV4_bypass(row):\n",
    "    return max(0, 7.36 + 0.0370 * row['peak_precip_intensity'] + 0.112 * row['total_precip_depth'])\n",
    "\n",
    "def LV4_inflow(row):\n",
    "    return max(0, LV4_runoff(row) - LV4_bypass(row))"
   ]
  },
  {
   "cell_type": "markdown",
   "metadata": {},
   "source": [
    "## Water quality loading relationship\n",
    "\n",
    "$ M_{\\mathrm{runoff}} = V_{\\mathrm{runoff}} \\times \\hat{\\mathbb{C}}_{\\mathrm{inflow}}\\left(\\mathrm{landuse,\\ season}\\right) $\n",
    "\n",
    "$ M_{\\mathrm{bypass}} = V_{\\mathrm{bypass}} \\times \\hat{\\mathbb{C}}_{\\mathrm{inflow}}\\left(\\mathrm{landuse,\\ season}\\right) $\n",
    "\n",
    "$ M_{\\mathrm{inflow}} = M_{\\mathrm{runoff}} - M_{\\mathrm{bypass}} $\n",
    "\n",
    "$ M_{\\mathrm{outflow}} = V_{\\mathrm{outflow}} \\times \\mathbb{C}_{\\mathrm{outflow}} $"
   ]
  },
  {
   "cell_type": "markdown",
   "metadata": {},
   "source": [
    "## Load External Data (this takes a while)"
   ]
  },
  {
   "cell_type": "code",
   "execution_count": null,
   "metadata": {
    "collapsed": false,
    "scrolled": false
   },
   "outputs": [],
   "source": [
    "bmpdb = pycvc.external.bmpdb(palette[3], 'D')\n",
    "nsqdata = pycvc.external.nsqd(palette[2], 'd')"
   ]
  },
  {
   "cell_type": "markdown",
   "metadata": {},
   "source": [
    "## Load CVC Database"
   ]
  },
  {
   "cell_type": "code",
   "execution_count": null,
   "metadata": {
    "collapsed": false
   },
   "outputs": [],
   "source": [
    "cvcdbfile = \"data/cvc.accdb\"\n",
    "cvcdb = pycvc.Database(cvcdbfile, nsqdata, bmpdb, testing=False)"
   ]
  },
  {
   "cell_type": "markdown",
   "metadata": {},
   "source": [
    "### Define the site object for the reference site and compute its median values (\"influent\" to other sites)"
   ]
  },
  {
   "cell_type": "code",
   "execution_count": null,
   "metadata": {
    "collapsed": false
   },
   "outputs": [],
   "source": [
    "LV1 = pycvc.Site(cvcdb, 'LV-1', 'LV-1', tocentry='Lakeview Control', isreference=True, \n",
    "               runoff_fxn=LV1_runoff, minprecip=min_precip, color=palette[1], marker='s')"
   ]
  },
  {
   "cell_type": "markdown",
   "metadata": {},
   "source": [
    "### Lakeview \"influent\" data from LV-1"
   ]
  },
  {
   "cell_type": "code",
   "execution_count": null,
   "metadata": {
    "collapsed": false
   },
   "outputs": [],
   "source": [
    "LV_Influent = (\n",
    "    LV1.wqdata\n",
    "       .query(\"sampletype == 'composite'\")\n",
    "       .groupby(by=['season', 'parameter', 'units'])['concentration']\n",
    "       .median()\n",
    "       .reset_index()\n",
    "       .rename(columns={'concentration': 'influent median'}) \n",
    ")\n",
    "LV_Influent.head()"
   ]
  },
  {
   "cell_type": "markdown",
   "metadata": {},
   "source": [
    "### Elm Drive 'influent' data from NSQD"
   ]
  },
  {
   "cell_type": "code",
   "execution_count": null,
   "metadata": {
    "collapsed": false
   },
   "outputs": [],
   "source": [
    "ED_Influent = (\n",
    "    cvcdb.nsqdata\n",
    "         .medians.copy()\n",
    "         .rename(columns={'NSQD Medians': 'influent median'})\n",
    ")\n",
    "ED_Influent.head()"
   ]
  },
  {
   "cell_type": "markdown",
   "metadata": {},
   "source": [
    "### Remaining site objects"
   ]
  },
  {
   "cell_type": "code",
   "execution_count": null,
   "metadata": {
    "collapsed": false
   },
   "outputs": [],
   "source": [
    "ED1 = pycvc.Site(cvcdb, 'ED-1', 'ED-1', tocentry='Elm Drive',\n",
    "               influentmedians=ED_Influent, \n",
    "               minprecip=min_precip, isreference=False,\n",
    "               runoff_fxn=ED1_runoff, bypass_fxn=ED1_bypass,\n",
    "               inflow_fxn=ED1_inflow, color=palette[0], marker='o')\n",
    "\n",
    "LV2 = pycvc.Site(cvcdb, 'LV-2', 'LV-1', tocentry='Lakeview Grass Swale',\n",
    "               influentmedians=LV_Influent, \n",
    "               minprecip=min_precip, isreference=False,\n",
    "               runoff_fxn=LV2_runoff, bypass_fxn=LV4_bypass,\n",
    "               inflow_fxn=LV4_inflow, color=palette[4], marker='^')\n",
    "\n",
    "LV4 = pycvc.Site(cvcdb, 'LV-4', 'LV-1', tocentry=r'Lakeview Bioswale 1$^{\\mathrm{st}}$ South Side',\n",
    "               influentmedians=LV_Influent, \n",
    "               minprecip=min_precip, isreference=False,\n",
    "               runoff_fxn=LV4_runoff, bypass_fxn=LV4_bypass,\n",
    "               inflow_fxn=LV4_inflow, color=palette[5], marker='v')"
   ]
  },
  {
   "cell_type": "markdown",
   "metadata": {},
   "source": [
    "### Fix ED-1 storm that had two composite samples"
   ]
  },
  {
   "cell_type": "code",
   "execution_count": null,
   "metadata": {
    "collapsed": false
   },
   "outputs": [],
   "source": [
    "ED1.hydrodata.data.loc['2012-08-10 23:50:00':'2012-08-11 05:20', 'storm'] = 0\n",
    "ED1.hydrodata.data.loc['2012-08-11 05:30':, 'storm'] += 1"
   ]
  },
  {
   "cell_type": "markdown",
   "metadata": {},
   "source": [
    "### Replace total inflow volume with estimate from simple method for 2013-07-08 storm"
   ]
  },
  {
   "cell_type": "code",
   "execution_count": null,
   "metadata": {
    "collapsed": false
   },
   "outputs": [],
   "source": [
    "storm_date = datetime.date(2013, 7, 8)\n",
    "for site in [ED1, LV1, LV2, LV4]:\n",
    "    bigstorm = site.storm_info.loc[site.storm_info.start_date.dt.date == storm_date].index[0]\n",
    "    inflow = site.drainagearea.simple_method(site.storm_info.loc[bigstorm, 'total_precip_depth'])\n",
    "    site.storm_info.loc[bigstorm, 'inflow_m3'] = inflow\n",
    "    "
   ]
  },
  {
   "cell_type": "markdown",
   "metadata": {},
   "source": [
    "## High-level summaries"
   ]
  },
  {
   "cell_type": "markdown",
   "metadata": {},
   "source": [
    "### Hydrologic Summary"
   ]
  },
  {
   "cell_type": "code",
   "execution_count": null,
   "metadata": {
    "collapsed": false
   },
   "outputs": [],
   "source": [
    "stormfile = pandas.ExcelWriter(\"output/xlsx/CVCHydro_StormInfo.xlsx\")\n",
    "hydrofile = pandas.ExcelWriter(\"output/xlsx/CVCHydro_StormStats.xlsx\")\n",
    "for site in [ED1, LV1, LV2, LV4]:\n",
    "    site.storm_info.to_excel(stormfile, sheet_name=site.siteid)\n",
    "    site.storm_stats.to_excel(hydrofile, sheet_name=site.siteid)\n",
    "    \n",
    "stormfile.save()\n",
    "stormfile.close()\n",
    "hydrofile.save()\n",
    "hydrofile.close()"
   ]
  },
  {
   "cell_type": "markdown",
   "metadata": {},
   "source": [
    "### Hydrologic Pairplots "
   ]
  },
  {
   "cell_type": "code",
   "execution_count": null,
   "metadata": {
    "collapsed": false,
    "scrolled": true
   },
   "outputs": [],
   "source": [
    "%matplotlib inline\n",
    "pybmp.setMPLStyle()\n",
    "for site in [ED1, LV2, LV4]:\n",
    "    for by in ['year', 'outflow', 'season']:\n",
    "        try:               \n",
    "            site.hydro_pairplot(by=by)\n",
    "        except:\n",
    "            print('failed on {}, {}'.format(site, by))"
   ]
  },
  {
   "cell_type": "markdown",
   "metadata": {},
   "source": [
    "### Prevalence Tables"
   ]
  },
  {
   "cell_type": "code",
   "execution_count": null,
   "metadata": {
    "collapsed": false
   },
   "outputs": [],
   "source": [
    "prev_tables = pandas.ExcelWriter('output/xlsx/CVCWQ_DataInventory.xlsx')\n",
    "for site in [ED1, LV1, LV2, LV4]:\n",
    "    stype = 'composite'\n",
    "    site.prevalence_table()[stype].to_excel(prev_tables, sheet_name='{}'.format(site.siteid))\n",
    "\n",
    "prev_tables.save()\n",
    "prev_tables.close()"
   ]
  },
  {
   "cell_type": "markdown",
   "metadata": {},
   "source": [
    "### Concentrations Stats"
   ]
  },
  {
   "cell_type": "code",
   "execution_count": null,
   "metadata": {
    "collapsed": false,
    "scrolled": false
   },
   "outputs": [],
   "source": [
    "concfile = pandas.ExcelWriter('output/xlsx/CVCWQ_ConcStats.xlsx')\n",
    "for site in [ED1, LV1, LV2, LV4]:\n",
    "    concs = site.wq_summary('concentration', sampletype='composite').T\n",
    "    concs.to_excel(concfile, sheet_name=site.siteid, na_rep='--')\n",
    "\n",
    "concfile.save()"
   ]
  },
  {
   "cell_type": "markdown",
   "metadata": {},
   "source": [
    "### Load Stats"
   ]
  },
  {
   "cell_type": "code",
   "execution_count": null,
   "metadata": {
    "collapsed": false
   },
   "outputs": [],
   "source": [
    "load = site.wq_summary('load_outflow', sampletype='composite').stack(level='parameter').stack(level=['load_units'])\n",
    "load.head(20)"
   ]
  },
  {
   "cell_type": "code",
   "execution_count": null,
   "metadata": {
    "collapsed": false
   },
   "outputs": [],
   "source": [
    "loadfile = pandas.ExcelWriter('output/xlsx/CVCWQ_LoadStats.xlsx')\n",
    "for site in [ED1, LV1, LV2, LV4]:\n",
    "    load = (\n",
    "        site.wq_summary('load_outflow', sampletype='composite')\n",
    "            .stack(level='parameter')\n",
    "            .stack(level='load_units')\n",
    "    )\n",
    "    load.to_excel(loadfile, sheet_name=site.siteid, na_rep='--')\n",
    "\n",
    "loadfile.save()"
   ]
  },
  {
   "cell_type": "markdown",
   "metadata": {},
   "source": [
    "### ~~All Loads~~ Tidy Data"
   ]
  },
  {
   "cell_type": "code",
   "execution_count": null,
   "metadata": {
    "collapsed": false
   },
   "outputs": [],
   "source": [
    "loadfile = pandas.ExcelWriter('output/xlsx/CVCWQ_TidyData.xlsx')\n",
    "for site in [ED1, LV1, LV2, LV4]:\n",
    "    #loads = cvc.summary.siteLoads(site, sampletype='composite')\n",
    "    #loads.to_excel(loadfile, sheet_name=site.siteid, na_rep='--', float_format='%.2f')\n",
    "    site.tidy_data.to_excel(loadfile, sheet_name=site.siteid, na_rep='--')\n",
    "    \n",
    "loadfile.save()"
   ]
  },
  {
   "cell_type": "markdown",
   "metadata": {},
   "source": [
    "### Total Loads Summary"
   ]
  },
  {
   "cell_type": "code",
   "execution_count": null,
   "metadata": {
    "collapsed": false,
    "scrolled": false
   },
   "outputs": [],
   "source": [
    "loadfile = pandas.ExcelWriter('output/xlsx/CVCWQ_LoadTotals.xlsx')\n",
    "for site in [ED1, LV1, LV2, LV4]:\n",
    "    loads = site.load_totals(sampletype='composite')\n",
    "    loads.to_excel(loadfile, sheet_name=site.siteid, na_rep='--')\n",
    "    \n",
    "loadfile.save()"
   ]
  },
  {
   "cell_type": "markdown",
   "metadata": {},
   "source": [
    "## Analysis"
   ]
  },
  {
   "cell_type": "markdown",
   "metadata": {},
   "source": [
    "### ISRs, Precip-outflow scatter plots"
   ]
  },
  {
   "cell_type": "code",
   "execution_count": null,
   "metadata": {
    "collapsed": false
   },
   "outputs": [],
   "source": [
    "seaborn.set(style='ticks', context='paper')\n",
    "pybmp.setMPLStyle()\n",
    "for site in [ED1, LV1, LV2, LV4]:\n",
    "    print('\\n----Summarizing {0}----'.format(site.siteid))\n",
    "    site.allISRs('composite', version='draft')\n",
    "    \n",
    "    site.hydro_jointplot(\n",
    "        xcol='total_precip_depth', \n",
    "        ycol='outflow_mm', \n",
    "        conditions=\"outflow_mm > 0\", \n",
    "        one2one=True\n",
    "    )\n",
    "\n",
    "    site.hydro_jointplot(\n",
    "        xcol='antecedent_days', \n",
    "        ycol='outflow_mm', \n",
    "        conditions=\"outflow_mm > 0\", \n",
    "        one2one=False\n",
    "    )\n",
    "\n",
    "    site.hydro_jointplot(\n",
    "        xcol='total_precip_depth', \n",
    "        ycol='antecedent_days', \n",
    "        conditions=\"outflow_mm == 0\", \n",
    "        one2one=False\n",
    "    )\n",
    "    \n",
    "    site.hydro_jointplot(\n",
    "        xcol='peak_precip_intensity', \n",
    "        ycol='peak_outflow', \n",
    "        conditions=None, \n",
    "        one2one=False\n",
    "    )\n",
    "    \n",
    "    plt.close('all')"
   ]
  },
  {
   "cell_type": "markdown",
   "metadata": {},
   "source": [
    "## WQ Comparison"
   ]
  },
  {
   "cell_type": "markdown",
   "metadata": {},
   "source": [
    "### Lists of sites to compare"
   ]
  },
  {
   "cell_type": "code",
   "execution_count": null,
   "metadata": {
    "collapsed": true
   },
   "outputs": [],
   "source": [
    "site_lists = [\n",
    "    [ED1, LV1],\n",
    "    [LV1, LV2, LV4],\n",
    "]"
   ]
  },
  {
   "cell_type": "markdown",
   "metadata": {},
   "source": [
    "### Individual Figures"
   ]
  },
  {
   "cell_type": "code",
   "execution_count": null,
   "metadata": {
    "collapsed": false,
    "scrolled": true
   },
   "outputs": [],
   "source": [
    "for sl in site_lists:\n",
    "    print('\\n----Comparing {}----'.format(', '.join([s.siteid for s in sl])))\n",
    "    for poc in POCs:\n",
    "        wqcomp = pycvc.summary.WQComparison(sl, 'composite', poc, nsqdata, bmpdb)\n",
    "        print('  ' + poc)\n",
    "        wqcomp.seasonalBoxplots(load=False, finalOutput=True)\n",
    "        wqcomp.seasonalBoxplots(load=True, finalOutput=True)\n",
    "        wqcomp.landuseBoxplots(finalOutput=True)\n",
    "        wqcomp.bmpCategoryBoxplots(finalOutput=True)\n",
    "        wqcomp.parameterStatPlot(finalOutput=True)\n",
    "        wqcomp.parameterTimeSeries(finalOutput=True)  \n",
    "        wqcomp.parameterStatPlot(load=True, finalOutput=True)\n",
    "        wqcomp.parameterTimeSeries(load=True, finalOutput=True)  \n",
    "\n",
    "        plt.close('all')"
   ]
  },
  {
   "cell_type": "markdown",
   "metadata": {},
   "source": [
    "### Megafigures"
   ]
  },
  {
   "cell_type": "code",
   "execution_count": null,
   "metadata": {
    "collapsed": false
   },
   "outputs": [],
   "source": [
    "for sl in site_lists:\n",
    "    print('\\n----Megafigs with {}----'.format(', '.join([s.siteid for s in sl])))\n",
    "    \n",
    "    # construct the megafigures\n",
    "    mf1 = pycvc.summary.WQMegaFigure(sl, 'composite', POCs[:6], 1, nsqdata, bmpdb)\n",
    "    mf2 = pycvc.summary.WQMegaFigure(sl, 'composite', POCs[6:], 2, nsqdata, bmpdb)\n",
    "    for n, mf in enumerate([mf1, mf2]):\n",
    "        print('\\tTime Series {0}'.format(n+1))\n",
    "        mf.timeseriesFigure(load=False)\n",
    "\n",
    "        mf.timeseriesFigure(load=True)\n",
    "\n",
    "        print('\\tStat plots {0}'.format(n+1))\n",
    "        mf.statplotFigure(load=False)\n",
    "        mf.statplotFigure(load=True)\n",
    "\n",
    "        print('\\tBMPDB Boxplots {0}'.format(n+1))\n",
    "        mf.bmpCategoryBoxplotFigure()\n",
    "\n",
    "        print('\\tNSQD Boxplots {0}'.format(n+1))\n",
    "        mf.landuseBoxplotFigure()\n",
    "\n",
    "        print('\\tSeasonal Boxplots {0}'.format(n+1))\n",
    "        mf.seasonalBoxplotFigure(load=False)\n",
    "        mf.seasonalBoxplotFigure(load=True)\n",
    "     \n",
    "    plt.close('all')"
   ]
  }
 ],
 "metadata": {
  "kernelspec": {
   "display_name": "Python 3",
   "language": "python",
   "name": "python3"
  },
  "language_info": {
   "codemirror_mode": {
    "name": "ipython",
    "version": 3
   },
   "file_extension": ".py",
   "mimetype": "text/x-python",
   "name": "python",
   "nbconvert_exporter": "python",
   "pygments_lexer": "ipython3",
   "version": "3.4.3"
  }
 },
 "nbformat": 4,
 "nbformat_minor": 0
}
